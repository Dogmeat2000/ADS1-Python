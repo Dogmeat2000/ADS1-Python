{
 "cells": [
  {
   "metadata": {},
   "cell_type": "markdown",
   "source": [
    "_Kristian M.P. Dashnaw, Software Engineering student at VIA University College, Horsens._\n",
    "\n",
    "\n",
    "# __Assignment 3 - ADS Fall 2024__\n",
    "\n",
    "The objective of this assignment is to create a weighted graph class. Include functions for adding and deleting vertices and edges, changing weights and iterating over all neighbors of a particular vertex.\n",
    "\n",
    "Your code should look something like this:\n",
    "  \n",
    "    class Graph:\n",
    "      def __init__(self, #add something here):\n",
    "        #add something here\n",
    "      def addVertex(self, #add something here):\n",
    "        #add something here\n",
    "      def addEdge(self, #add something here):\n",
    "        #add something here\n",
    "        \n",
    "    #and so on\n",
    "    \n",
    "\n",
    "### __Deliverables:__\n",
    "\n",
    "You are to hand in a <i>single</i> .ipynb containing:\n",
    "1. Output (all cells must be run)\n",
    "2. Your Graph class\n",
    "3. Your instance of the graph above.\n",
    "\n",
    "\n",
    "### __Design Choices:__\n",
    "The solve the designated task of building a Graph ADT (Abstract Data Type), there are multiple recommended approaches, as described in Data Algorithms & Structures chapter 14. The most common include:\n",
    "1. The __edge list__, which is a minimal approach to the Graph ADT where all edges are stored as an unordered list. Its performance is not good, and it provides no means of locating a particular edge, or a set of alle edges adjacent to a specific vertex, quickly.\n",
    "2. The __adjacency list__, where separate lists are maintained for each vertex containing connected edges. This structure fulfils the requirements set by this assignment, allowing for identifying specific vertices and connected edges.\n",
    "3. The __adjacency map__, which is similar to the adjacency list. Instead of using lists to store the edges connected to each vertex, this approach uses maps providing better performance. It also fulfills the requirements of this assignment.\n",
    "4. The __adjacency matrix__, which uses a matrix structure to contain all vertices and connected edges, instead of using lists or maps. It allows for improved performance when getting each edge, but potential worse performance when inserting or removing vertices. It also fulfills the requirements of this assignment.\n",
    "\n",
    "\n",
    "\n",
    "### __Chosen design:__ Adjacency Map\n",
    "\n",
    "The adjacency map approach, described in option 3, is chosen as the base for this assignment. This choice is based upon the generally improved performance over option 1 and 2. Compared to option 4, I do not expect the written graphs to be dense especially often, which is why the improved performance the adjacency matrix offers while getting edges is negligible, while the worsened performance when inserting/deleting vertices are expected to be felt more often as a general user."
   ],
   "id": "6e2ff627d7d12ee8"
  },
  {
   "metadata": {
    "collapsed": true,
    "ExecuteTime": {
     "end_time": "2024-11-17T20:07:47.615696Z",
     "start_time": "2024-11-17T20:07:47.599831Z"
    }
   },
   "cell_type": "code",
   "source": [
    "# Define the main Graph class, responsible for providing the Graph functionality.\n",
    "# This is an adjacency map based Graph ADT.\n",
    "# v = destination vertex\n",
    "# u = origin vertex\n",
    "# x = weight\n",
    "class Graph:\n",
    "\n",
    "    # Nested vertex class, used to represent all edges in this Graph ADT.\n",
    "    class Vertex:\n",
    "        __slots__ = '_element' # Will hold any destination vertex, once set.\n",
    "\n",
    "        def __init__(self, x):\n",
    "            self._element = x\n",
    "\n",
    "        # Define a function to return the 'element' associated with this vertex (i.e. any associated destination vertex):\n",
    "        def element(self):\n",
    "            return self._element\n",
    "\n",
    "        # A hash function is required, for custom classes to be represented as keys in dictionaries.\n",
    "        def __hash__(self):\n",
    "            return hash(id(self))\n",
    "\n",
    "    # Nested edge class, used to represent all edges in this Graph ADT.\n",
    "    class Edge:\n",
    "        __slots__ = '_origin', '_destination', '_element'\n",
    "\n",
    "        def __init__(self, u, v, x):\n",
    "            self._origin = u        # Will hold the origin vertex for this edge.\n",
    "            self._destination = v   # Will hold the destination vertex for this edge.\n",
    "            self._element = x       # Will hold any weight element, for this edge (note: _element is chosen, for the added flexibility of the 'weight' being something else... maybe distance, time, etc.)\n",
    "\n",
    "        # Returns a tuple, similar to dict, this edges key/value pair (\"origin_vertex\", \"destination_vertex\")\n",
    "        def endpoints(self):\n",
    "            return self._origin, self._destination\n",
    "\n",
    "        # Returns the vertex which is at the opposite end of this edge (given edge ('A', 'B') if v='A' then return value is 'B'):\n",
    "        def opposite(self, v):\n",
    "            return self._destination if v is self._origin else self._origin\n",
    "\n",
    "        # Returns any weight associated with this specific edge:\n",
    "        def element(self):\n",
    "            return self._element\n",
    "\n",
    "        # A hash function is required, for custom classes to be represented as keys in dictionaries.\n",
    "        def __hash__(self):\n",
    "            return hash((self._origin, self._destination))\n",
    "\n",
    "\n",
    "    # Define the Graph init method, which is run automatically when creating an instance (Also known as 'Constructor')\n",
    "    def __init__(self, directed=False):\n",
    "        self._outgoing = {}                                     # A dictionary containing lists of all outgoing edges (outgoing from a certain vertice, where vertice is the key and list of edges is the value)\n",
    "        self._incoming = {} if directed else self._outgoing     # A dictionary containing lists of all incoming edges, if using a directed graph. Otherwise, works the same as the outgoing.\n",
    "\n",
    "    # Returns TRUE if this Graph is declared as a directed graph, else returns FALSE if Graph is undirected.\n",
    "    def is_directed(self):\n",
    "        return self._incoming is not self._outgoing\n",
    "\n",
    "    # Returns the total number of vertices objects added to this Graph\n",
    "    def vertex_count(self):\n",
    "        return len(self._outgoing)\n",
    "\n",
    "    # Returns a list of all the vertice objects in this Graph\n",
    "    def vertices(self):\n",
    "        return self._outgoing.keys()\n",
    "\n",
    "    # Returns the total number of edge objects added to this Graph\n",
    "    def edge_count(self):\n",
    "        total = sum(len(self._outgoing[v]) for v in self._outgoing)\n",
    "        return total if self.is_directed() else total\n",
    "\n",
    "    # Returns a list of all the edge objects in this Graph\n",
    "    def edges(self):\n",
    "        result = set( )\n",
    "        for secondary_map in self._outgoing.values():\n",
    "            result.update(secondary_map.values())\n",
    "        return result\n",
    "\n",
    "    # Returns a specific edge object\n",
    "    def get_edge(self, u, v):\n",
    "        return self._outgoing[u].get(v)\n",
    "\n",
    "    # Calculates how many outgoing edges are directly connected to the specified vertex v.\n",
    "    # If graph is non-directional it simply counts the number of incoming edges to any given vertex v.\n",
    "    def degree(self, v, outgoing=True):\n",
    "        adj = self._outgoing if outgoing else self._incoming\n",
    "        return len(adj[v])\n",
    "\n",
    "    # Returns a list of all edge objects either going out from the specified vertex v, or coming into - depending on the\n",
    "    # boolean value of the 'outgoing' argument. If True, returns the edge objects originating from vertex v.\n",
    "    def incident_edges(self, v, outgoing=True):\n",
    "        adj = self._outgoing if outgoing else self._incoming\n",
    "        for edge in adj[v].values():\n",
    "            yield edge\n",
    "\n",
    "    # Function to add a vertex object to the graph:\n",
    "    def add_vertex(self, x = None):\n",
    "        v = self.Vertex(x)\n",
    "        self._outgoing[v] = {}\n",
    "        if self.is_directed():\n",
    "            self._incoming[v] = {}\n",
    "        return v\n",
    "\n",
    "    # Function to add an edge object to the graph:\n",
    "    def add_edge(self, u, v, x=None):\n",
    "        e = self.Edge(u, v, x)\n",
    "        self._outgoing[u][v] = e\n",
    "        self._incoming[v][u] = e\n",
    "           \n",
    "    # Function to delete a vertex (including any edges the vertices are part of):\n",
    "    def remove_vertex(self, v):\n",
    "        connectedEdgesOutgoing = self.incident_edges(v, True)\n",
    "        for edge in connectedEdgesOutgoing:\n",
    "            u = edge.opposite(v)\n",
    "            del self._incoming[u][v]            # Removes the vertex from opposite end vertices' incoming map.\n",
    "        del self._outgoing[v]                   # Removes the specified vertex from the outgoing vertices map.\n",
    "\n",
    "        if self.is_directed():\n",
    "            connectedEdgesIncoming = self.incident_edges(v, False)\n",
    "            for edge in connectedEdgesIncoming: # Iterates through all incoming edges, connected to the specified vertex\n",
    "                u = edge.opposite(v)\n",
    "                del self._outgoing[u][v]        # Removes the vertex from opposite end vertices' outgoing map.\n",
    "            del self._incoming[v]               # Removes the specified vertex from the incoming vertices map.\n",
    "                 \n",
    "    # Function to delete an edge, beginning in vertex u and ending in vertex v:\n",
    "    def remove_edge(self, u, v):\n",
    "        if self.is_directed():\n",
    "            del self._outgoing[u][v]            # Removes the edge from the outgoing edge map.\n",
    "        else:\n",
    "            del self._outgoing[u][v]            # Removes the edge from the outgoing edge map.\n",
    "            del self._incoming[v][u]            # Removes the edge from the incoming edge map, if graph is directed.\n",
    "\n",
    "    # Function to change the weight of an edge, beginning in vertex u and ending in vertex v:\n",
    "    def set_new_weight_on_edge(self, u, v, new_weight):\n",
    "        self.remove_edge(u, v)\n",
    "        self.add_edge(u,v, new_weight)\n",
    "\n",
    "    # Function to display the current graph:\n",
    "    def display_graph(self):\n",
    "        for vertex, edges in self._outgoing.items():\n",
    "            edges_str = {v._element: e._element for v, e in edges.items()}\n",
    "            print(f\"{vertex._element} -> {edges_str}\")"
   ],
   "id": "initial_id",
   "outputs": [],
   "execution_count": 19
  },
  {
   "metadata": {},
   "cell_type": "markdown",
   "source": [
    "## __Instantiating the Graph described in Assignment 3:__\n",
    "\n",
    "Below we instantiate the Graph shown in Assignment 3. The expected visual representation, if our code above is written correctly, should be:\n",
    "\n",
    "    A -> {'B': 2, 'C': 1, 'D': 7, 'E': 9}\n",
    "    B -> {'A': 2, 'E': 1}\n",
    "    C -> {'A': 1, 'F': 6, 'G': 12}\n",
    "    D -> {'A': 7, 'E': 3, 'G': 2}\n",
    "    E -> {'A': 9, 'B': 1, 'D': 3, 'G': 8, 'H': 7}\n",
    "    F -> {'C': 6, 'G': 2}\n",
    "    G -> {'C': 12, 'D': 2, 'E': 8, 'F': 2, 'H': 1}\n",
    "    H -> {'E': 7, 'G': 1}"
   ],
   "id": "a29a0aac56150ed8"
  },
  {
   "metadata": {
    "ExecuteTime": {
     "end_time": "2024-11-17T20:07:51.834008Z",
     "start_time": "2024-11-17T20:07:51.825954Z"
    }
   },
   "cell_type": "code",
   "source": [
    "# Building the graph specified in Assignment 3:\n",
    "weighedGraph = Graph(False)\n",
    "\n",
    "# Add the vertices shown on the assignment 3 graph:\n",
    "for vertex in ['A', 'B', 'C', 'D', 'E', 'F', 'G', 'H']:\n",
    "    weighedGraph.add_vertex(vertex)\n",
    "\n",
    "# Build the mapping after all vertices are added:\n",
    "vertices = {v.element(): v for v in weighedGraph.vertices()}\n",
    "\n",
    "# Define the edges, visually shown on the assignment 3 graph:\n",
    "edges = [\n",
    "    ('A', 'B', 2), ('A', 'C', 1), ('A', 'D', 7), ('A', 'E', 9),\n",
    "    ('B', 'A', 2), ('B', 'E', 1),\n",
    "    ('C', 'A', 1), ('C', 'F', 6), ('C', 'G', 12),\n",
    "    ('D', 'A', 7), ('D', 'E', 3), ('D', 'G', 2),\n",
    "    ('E', 'B', 1), ('E', 'A', 9), ('E', 'D', 3), ('E', 'G', 8), ('E', 'H', 7),\n",
    "    ('F', 'C', 6), ('F', 'G', 2),\n",
    "    ('G', 'C', 12), ('G', 'D', 2), ('G', 'E', 8), ('G', 'F', 2), ('G', 'H', 1),\n",
    "    ('H', 'E', 7), ('H', 'G', 1)]\n",
    "\n",
    "# Add the edges shown on the assignment 3 graph:\n",
    "for origin, destination, weight in edges:\n",
    "    weighedGraph.add_edge(vertices[origin], vertices[destination], weight)\n",
    "\n",
    "# Display the graph from Assignment 3, created using the Graph ADT written above:\n",
    "weighedGraph.display_graph()"
   ],
   "id": "59c7b1db21aa4d57",
   "outputs": [
    {
     "name": "stdout",
     "output_type": "stream",
     "text": [
      "A -> {'B': 2, 'C': 1, 'D': 7, 'E': 9}\n",
      "B -> {'A': 2, 'E': 1}\n",
      "C -> {'A': 1, 'F': 6, 'G': 12}\n",
      "D -> {'A': 7, 'E': 3, 'G': 2}\n",
      "E -> {'A': 9, 'B': 1, 'D': 3, 'G': 8, 'H': 7}\n",
      "F -> {'C': 6, 'G': 2}\n",
      "G -> {'C': 12, 'D': 2, 'E': 8, 'F': 2, 'H': 1}\n",
      "H -> {'E': 7, 'G': 1}\n"
     ]
    }
   ],
   "execution_count": 20
  },
  {
   "metadata": {},
   "cell_type": "markdown",
   "source": [
    "## __Testing the Graph ADT functions:__\n",
    "\n",
    "To finalize this assignment, I have included a few brief tests of the remove and edit methods required in this assigment.\n",
    "These showcase how the graph properly changes depending on the requested manipulation function"
   ],
   "id": "f1db7aa6b93223bc"
  },
  {
   "metadata": {
    "ExecuteTime": {
     "end_time": "2024-11-17T20:07:57.288828Z",
     "start_time": "2024-11-17T20:07:57.283472Z"
    }
   },
   "cell_type": "code",
   "source": [
    "# Test removing an edge:\n",
    "weighedGraph.remove_edge(vertices['A'], vertices['B'])\n",
    "\n",
    "# Display updated graph:\n",
    "weighedGraph.display_graph()\n",
    "\n",
    "# Notice how the 'A' -> 'B' edge has been removed, as well as how the 'B' -> 'A' edge (since the declared graph is non-directional)."
   ],
   "id": "5981d84053c59aa4",
   "outputs": [
    {
     "name": "stdout",
     "output_type": "stream",
     "text": [
      "A -> {'C': 1, 'D': 7, 'E': 9}\n",
      "B -> {'E': 1}\n",
      "C -> {'A': 1, 'F': 6, 'G': 12}\n",
      "D -> {'A': 7, 'E': 3, 'G': 2}\n",
      "E -> {'A': 9, 'B': 1, 'D': 3, 'G': 8, 'H': 7}\n",
      "F -> {'C': 6, 'G': 2}\n",
      "G -> {'C': 12, 'D': 2, 'E': 8, 'F': 2, 'H': 1}\n",
      "H -> {'E': 7, 'G': 1}\n"
     ]
    }
   ],
   "execution_count": 21
  },
  {
   "metadata": {
    "ExecuteTime": {
     "end_time": "2024-11-17T20:08:37.659431Z",
     "start_time": "2024-11-17T20:08:37.654921Z"
    }
   },
   "cell_type": "code",
   "source": [
    "# Test removing a vertex:\n",
    "weighedGraph.remove_vertex(vertices['E'])\n",
    "\n",
    "# Display updated graph:\n",
    "weighedGraph.display_graph()\n",
    "\n",
    "# Notice how the 'E' vertex has been removed from the entire Graph."
   ],
   "id": "459f981e05907296",
   "outputs": [
    {
     "name": "stdout",
     "output_type": "stream",
     "text": [
      "A -> {'C': 1, 'D': 7}\n",
      "B -> {}\n",
      "C -> {'A': 1, 'F': 6, 'G': 12}\n",
      "D -> {'A': 7, 'G': 2}\n",
      "F -> {'C': 6, 'G': 2}\n",
      "G -> {'C': 12, 'D': 2, 'F': 2, 'H': 1}\n",
      "H -> {'G': 1}\n"
     ]
    }
   ],
   "execution_count": 22
  },
  {
   "metadata": {
    "ExecuteTime": {
     "end_time": "2024-11-17T20:08:50.423833Z",
     "start_time": "2024-11-17T20:08:50.419708Z"
    }
   },
   "cell_type": "code",
   "source": [
    "# Test changing edge weight:\n",
    "weighedGraph.set_new_weight_on_edge(vertices['A'], vertices['C'], 50)\n",
    "\n",
    "# Display updated graph:\n",
    "weighedGraph.display_graph()\n",
    "\n",
    "# Notice how the 'A' -> 'C' edge weight has been changed to 50, as well as how the 'C' -> 'A' edge also increased in weight (since the declared graph is non-directional)."
   ],
   "id": "3046b89a5e42520d",
   "outputs": [
    {
     "name": "stdout",
     "output_type": "stream",
     "text": [
      "A -> {'D': 7, 'C': 50}\n",
      "B -> {}\n",
      "C -> {'F': 6, 'G': 12, 'A': 50}\n",
      "D -> {'A': 7, 'G': 2}\n",
      "F -> {'C': 6, 'G': 2}\n",
      "G -> {'C': 12, 'D': 2, 'F': 2, 'H': 1}\n",
      "H -> {'G': 1}\n"
     ]
    }
   ],
   "execution_count": 23
  }
 ],
 "metadata": {
  "kernelspec": {
   "display_name": "Python 3",
   "language": "python",
   "name": "python3"
  },
  "language_info": {
   "codemirror_mode": {
    "name": "ipython",
    "version": 2
   },
   "file_extension": ".py",
   "mimetype": "text/x-python",
   "name": "python",
   "nbconvert_exporter": "python",
   "pygments_lexer": "ipython2",
   "version": "2.7.6"
  }
 },
 "nbformat": 4,
 "nbformat_minor": 5
}
