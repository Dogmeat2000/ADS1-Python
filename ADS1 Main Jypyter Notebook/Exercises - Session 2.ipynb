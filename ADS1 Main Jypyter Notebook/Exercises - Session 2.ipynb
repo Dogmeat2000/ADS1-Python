﻿{
 "cells": [
  {
   "metadata": {},
   "cell_type": "markdown",
   "source": [
    "__Exercise 2.1__\n",
    "The following Java code checks whether a number is a prime number. Turn it into pseudocode and then python code.\n",
    "\n",
    "__Java Code:__<br>\n",
    "\n",
    "    public boolean isPrime(int number) {                    \n",
    "      if (number < 2) {                                     \n",
    "         return false;                                     \n",
    "      }                                                     \n",
    "      for (int i = 2; i <= Math.sqrt(number); i++) {        \n",
    "        if (number % i == 0) {                              \n",
    "          return false;                                     \n",
    "        }                                                   \n",
    "      }                                                     \n",
    "      return true;                                          \n",
    "    }                                                       \n",
    "\n",
    "\n",
    "__Pseudo-code:__<br>\n",
    "A Prime is a number that is ONLY divisable (whole number) with itself and 1.\n",
    "\n",
    "    Algorithm: isPrime(a)\n",
    "        Input: a (positive integer)\n",
    "        \n",
    "        if (a < 2):                     #Check if input is less than 2, since there is no prime smaller than 2. (1 is not a prime)\n",
    "            return False\n",
    "    \n",
    "        for i = 2 in range i to sqrt(x) #Check if input is divisable with any number between 2 and the sqrt(input), since a prime must only be divisable with itself and 1.\n",
    "            if number % i == 0\n",
    "                return false\n",
    "        return True"
   ],
   "id": "9850f5cb28cedbf8"
  },
  {
   "metadata": {
    "collapsed": true,
    "ExecuteTime": {
     "end_time": "2024-09-10T13:40:00.584064Z",
     "start_time": "2024-09-10T13:40:00.579007Z"
    }
   },
   "cell_type": "code",
   "source": [
    "def isPrime(a):\n",
    "    if(a < 2):\n",
    "        return False\n",
    "    \n",
    "    done = False\n",
    "    i = 2\n",
    "    while not done: \n",
    "        if a % i == 0:\n",
    "            return False\n",
    "        if i + 1 < pow(a, 0.5):\n",
    "            i = i + 1\n",
    "        elif i + pow(a, 0.5) <= pow(a, 0.5):\n",
    "            done = True\n",
    "        else:\n",
    "            done = True\n",
    "    return True"
   ],
   "id": "initial_id",
   "outputs": [],
   "execution_count": 3
  },
  {
   "metadata": {
    "ExecuteTime": {
     "end_time": "2024-09-10T13:40:04.261244Z",
     "start_time": "2024-09-10T13:40:04.254727Z"
    }
   },
   "cell_type": "code",
   "source": [
    "print(\"isPrime(2) : \" + str(isPrime(2)))\n",
    "print(\"isPrime(3) : \" + str(isPrime(3)))\n",
    "print(\"isPrime(4) : \" + str(isPrime(4)))\n",
    "print(\"isPrime(5) : \" + str(isPrime(5)))\n",
    "print(\"isPrime(6) : \" + str(isPrime(6)))\n",
    "print(\"isPrime(7) : \" + str(isPrime(7)))\n",
    "print(\"isPrime(8) : \" + str(isPrime(8)))\n",
    "print(\"isPrime(9) : \" + str(isPrime(9)))\n",
    "print(\"isPrime(10) : \" + str(isPrime(10)))"
   ],
   "id": "ef0f9e803049aef5",
   "outputs": [
    {
     "name": "stdout",
     "output_type": "stream",
     "text": [
      "isPrime(2) :False\n",
      "isPrime(3) :True\n",
      "isPrime(4) :False\n",
      "isPrime(5) :True\n",
      "isPrime(6) :False\n",
      "isPrime(7) :True\n",
      "isPrime(8) :False\n",
      "isPrime(9) :True\n",
      "isPrime(10) :False\n"
     ]
    }
   ],
   "execution_count": 4
  },
  {
   "metadata": {},
   "cell_type": "markdown",
   "source": [
    "___\n",
    "\n",
    "__Exercise 2.2.__\n",
    "\n",
    "Write pseudocode and python code for the following algorithms:\n",
    "\n",
    "    a)   An algorithm is_multiple(n, m), that takes two integers and returns True if n is a multiple of m (that is, n = mi for some integer i), and False otherwise.\n",
    "    \n",
    "    b)   An algorithm minmax(array), that takes an array of length > 0 and returns the smallest and largest number. Do not use the built-in min and max in your python code.\n",
    "    \n",
    "\n",
    "__Pseudocode for a)__\n",
    "\n",
    "    Algorithm: is_multiple(n, m):\n",
    "        Input: n (integer), m (integer)\n",
    "        \n",
    "        if m == 0: #Comment: Check if m is zero (avoid division with zero):\n",
    "            return False\n",
    "        else if  n % m == 0:\n",
    "            return True\n",
    "        else:\n",
    "            return False"
   ],
   "id": "b63757600d9122ed"
  },
  {
   "metadata": {
    "ExecuteTime": {
     "end_time": "2024-09-11T15:19:54.628646Z",
     "start_time": "2024-09-11T15:19:54.624417Z"
    }
   },
   "cell_type": "code",
   "source": [
    "#Python Code for a)\n",
    "\n",
    "def is_multiple(n, m):\n",
    "    if m == 0:\n",
    "        return False\n",
    "    elif n % m == 0:\n",
    "        return True\n",
    "    else:\n",
    "        return False"
   ],
   "id": "c4b5ca002fb485b1",
   "outputs": [],
   "execution_count": 4
  },
  {
   "metadata": {
    "ExecuteTime": {
     "end_time": "2024-09-11T15:28:10.978348Z",
     "start_time": "2024-09-11T15:28:10.973934Z"
    }
   },
   "cell_type": "code",
   "source": [
    "# Test 1: Should be TRUE\n",
    "n = 4\n",
    "m = 2\n",
    "print(\"is {} a multiple of {}: {}\".format(n, m, is_multiple(n, m)))\n",
    "\n",
    "# Test 2: Should be FALSE\n",
    "n = 5\n",
    "m = 3\n",
    "print(\"is {} a multiple of {}: {}\".format(n, m, is_multiple(n, m)))"
   ],
   "id": "3360ec9bbdafde48",
   "outputs": [
    {
     "name": "stdout",
     "output_type": "stream",
     "text": [
      "is 4 a multiple of 2: True\n",
      "is 5 a multiple of 3: False\n"
     ]
    }
   ],
   "execution_count": 21
  },
  {
   "metadata": {},
   "cell_type": "markdown",
   "source": [
    "__Pseudocode for b)__\n",
    "\n",
    "    Algorithm: minmax(array)\n",
    "        Input: an Array containing more than 0 float values\n",
    "        \n",
    "        min = Array[0] #First element in array.\n",
    "        max = Array[0] #First element in array.\n",
    "    \n",
    "        foreach float in array:\n",
    "            if float > max:\n",
    "                min = float\n",
    "            else if float < min:\n",
    "                max = float\n",
    "                \n",
    "        return [min, max]"
   ],
   "id": "d1fbc3969b54b65b"
  },
  {
   "metadata": {
    "ExecuteTime": {
     "end_time": "2024-09-11T15:44:09.745547Z",
     "start_time": "2024-09-11T15:44:09.741040Z"
    }
   },
   "cell_type": "code",
   "source": [
    "#Python Code for b)\n",
    "\n",
    "def minmax(array):\n",
    "    min = array[0]\n",
    "    max = array[0]\n",
    "    \n",
    "    for float in array:\n",
    "        if float > max:\n",
    "            max = float\n",
    "        elif float < min:\n",
    "            min = float\n",
    "    return [min, max]"
   ],
   "id": "57e378dc4a8a796d",
   "outputs": [],
   "execution_count": 27
  },
  {
   "metadata": {
    "ExecuteTime": {
     "end_time": "2024-09-11T15:44:13.243996Z",
     "start_time": "2024-09-11T15:44:13.236997Z"
    }
   },
   "cell_type": "code",
   "source": [
    "# Test 1: Should be lowerNumber = 0 and upperNumber = 10\n",
    "array = [0, 1, 2, 3, 4, 5, 6, 7, 8, 9, 10]\n",
    "print(\"In Array {}, min = {} and max = {}\".format(array, minmax(array)[0], minmax(array)[1]))\n",
    "\n",
    "# Test 2: Should be lowerNumber = 53 and upperNumber = 925\n",
    "array = [925, 924, 54, 105, 408, 53, 667, 701, 856, 901, 101]\n",
    "print(\"In Array {}, min = {} and max = {}\".format(array, minmax(array)[0], minmax(array)[1]))"
   ],
   "id": "6c1213d7004aa591",
   "outputs": [
    {
     "name": "stdout",
     "output_type": "stream",
     "text": [
      "In Array [0, 1, 2, 3, 4, 5, 6, 7, 8, 9, 10], min = 0 and max = 10\n",
      "In Array [925, 924, 54, 105, 408, 53, 667, 701, 856, 901, 101], min = 53 and max = 925\n"
     ]
    }
   ],
   "execution_count": 28
  },
  {
   "metadata": {},
   "cell_type": "markdown",
   "source": [
    "___\n",
    "\n",
    "__Exercise 2.3__\n",
    "\n",
    "Demonstrate how to use Python's list comprehension syntax to produce the list [1, 2, 4, 8, 16, 32, 64, 128, 256]\n",
    "\n",
    "__Pseudocode__\n",
    "\n",
    "    # Utilize the way Python stores and generates sequences [], where the order has significant meaning.\n",
    "    # The provided list increases with a factor of 2 for each \"step\", \n",
    "    # 1*2 = 2, \n",
    "    # 2 * 2 = 4,\n",
    "    # 4 * 2 = 8,\n",
    "    # etc.\n",
    "    \n",
    "    # To reach 256, we need 9 steps. So we can utilize the python list to increase a number while iterating through a list with 9 values inside.\n",
    "    Input: numberOfSteps (Integer) and powerFactor (Integer)\n",
    "    \n",
    "    powerList = [pow(i, powerFactor) for i in range(numberOfSteps)]\n",
    "    \n",
    "    "
   ],
   "id": "93bd7e9c8a349186"
  },
  {
   "metadata": {
    "ExecuteTime": {
     "end_time": "2024-09-11T16:41:07.802024Z",
     "start_time": "2024-09-11T16:41:07.797115Z"
    }
   },
   "cell_type": "code",
   "source": [
    "# Python Code:\n",
    "\n",
    "numberOfSteps = 9\n",
    "powerFactor = 2\n",
    "powerList = [pow(powerFactor, i) for i in range(numberOfSteps)]\n",
    "\n",
    "print(\"Number sequence given with {} step and power increase {} foreach step is: {}\".format(numberOfSteps, powerFactor, powerList))"
   ],
   "id": "3d8c772a113079e0",
   "outputs": [
    {
     "name": "stdout",
     "output_type": "stream",
     "text": [
      "Number sequence given with 9 step and power increase 2 foreach step is: [1, 2, 4, 8, 16, 32, 64, 128, 256]\n"
     ]
    }
   ],
   "execution_count": 31
  },
  {
   "metadata": {},
   "cell_type": "markdown",
   "source": [
    "___\n",
    "\n",
    "__Exercise 2.4__\n",
    "\n",
    "The following function is supposed to take a list (data) and multiply all number in the list by the number factor, and then return the new list\n",
    "\n",
    "    def scale(data, factor):\n",
    "        for val in data:\n",
    "            val *= factor \n",
    "        return data\n",
    "        \n",
    "a) Why does it not work?\n",
    "    \n",
    "    Answer: int values are immutable. \n",
    "    Since they are immutable objects inside of the list, they cannot be changed. \n",
    "    The way python integrates the list class is by simply \"building a list of references\" that reference back to the original objects. int types are immutable, as such we can not change these once they have been set/declared.\n",
    "    So solve the \"problem\" we therefore need to create a new list and instead save each changed value in sequence inside this new list, and have the algorithm return this list.\n",
    "\n",
    "b) Fix it."
   ],
   "id": "124fef32127dfaee"
  },
  {
   "metadata": {
    "ExecuteTime": {
     "end_time": "2024-09-11T17:05:10.345823Z",
     "start_time": "2024-09-11T17:05:10.338696Z"
    }
   },
   "cell_type": "code",
   "source": [
    "# Python code for the fixed function, from above:\n",
    "\n",
    "def scale(data, factor):\n",
    "    data_array = []\n",
    "    \n",
    "    for val in data:\n",
    "        data_array.append(val * factor) \n",
    "    return data_array\n",
    "\n",
    "# Test. Expected result is [2, 4, 6, 8, 10, 12, 14, 16, 18, 20].\n",
    "\n",
    "data = [1, 2, 3, 4, 5, 6, 7, 8, 9, 10]\n",
    "factor = 2\n",
    "\n",
    "print(\"Test 1: \" + str(scale(data, factor)))"
   ],
   "id": "d0b2eb63c2cfa3fc",
   "outputs": [
    {
     "name": "stdout",
     "output_type": "stream",
     "text": [
      "Test 1: [2, 4, 6, 8, 10, 12, 14, 16, 18, 20]\n"
     ]
    }
   ],
   "execution_count": 35
  },
  {
   "metadata": {},
   "cell_type": "markdown",
   "source": [
    "___\n",
    "__Exercise 2.5__\n",
    "\n",
    "Write a Python function called fizz_buzz(n) that returns a list of strings representing the numbers from 1 to n. However, for multiples of 3, add \"Fizz\" to the number (e.g. “3Fizz”), for multiples of 5 add \"Buzz\", and for multiples of both, add \"FizzBuzz\".\n",
    "\n",
    "__Pseudo-code__\n",
    "\n",
    "    Algorithm: fizz_buzz(n)\n",
    "        Input: n (integer)\n",
    "    \n",
    "        # Create an empty list\n",
    "        list = [] \n",
    "        \n",
    "        # Loop through a range of numbers (0 to n)\n",
    "        for each number (n) from 0 to n:\n",
    "            if n % 3 == 0 AND n % 5 == 0:\n",
    "                add string(n + FizzBuzz) to list\n",
    "            else if n % 3 == 0:\n",
    "                add string(n + Fizz) to list\n",
    "            else if n % 5 == 0:\n",
    "                add string(n + Buzz) to list\n",
    "        return list"
   ],
   "id": "a6dff2e63826e02e"
  },
  {
   "metadata": {
    "ExecuteTime": {
     "end_time": "2024-09-11T17:20:55.676969Z",
     "start_time": "2024-09-11T17:20:55.671037Z"
    }
   },
   "cell_type": "code",
   "source": [
    "# Python Code for exercise 2.5:\n",
    "\n",
    "def fizz_buzz(n):\n",
    "    fizz_buzz_list = []\n",
    "    \n",
    "    for i in range(n):\n",
    "        if i % 3 == 0 and i % 5 == 0 and i != 0: #Prevent division with 0.\n",
    "            fizz_buzz_list.append(str(str(i)+\"FizzBuzz\"))\n",
    "        elif i % 3 == 0 and i != 0:\n",
    "            fizz_buzz_list.append(str(str(i)+\"Fizz\"))\n",
    "        elif i % 5 == 0 and i != 0:\n",
    "            fizz_buzz_list.append(str(str(i)+\"Buzz\"))\n",
    "        else:\n",
    "            fizz_buzz_list.append(str(i))\n",
    "    return fizz_buzz_list\n",
    "\n",
    "# Test, expected output: ['0', '1', '2', '3Fizz', '4', '5Buzz', '6Fizz', '7', '8', '9Fizz', '10Buzz', '11', '12Fizz', '13', '14', '15FizzBuzz', '16', '17', '18Fizz', '19', '20Buzz', '21Fizz', '22', '23', '24Fizz']\n",
    "n = 25\n",
    "print(\"FizzBuzz list where n={} is: {}\".format(n, fizz_buzz(n)))"
   ],
   "id": "78a963fef4590b6b",
   "outputs": [
    {
     "name": "stdout",
     "output_type": "stream",
     "text": [
      "FizzBuzz list where n=25 is: ['0', '1', '2', '3Fizz', '4', '5Buzz', '6Fizz', '7', '8', '9Fizz', '10Buzz', '11', '12Fizz', '13', '14', '15FizzBuzz', '16', '17', '18Fizz', '19', '20Buzz', '21Fizz', '22', '23', '24Fizz']\n"
     ]
    }
   ],
   "execution_count": 39
  },
  {
   "metadata": {},
   "cell_type": "markdown",
   "source": [
    "___\n",
    "__Exercise 2.6__\n",
    "\n",
    "Use the matplotlib module to create a simple line plot showing the relationship between x and y, where y=x^2."
   ],
   "id": "15c8eacc7a3e473d"
  },
  {
   "metadata": {
    "ExecuteTime": {
     "end_time": "2024-09-11T17:41:21.858577Z",
     "start_time": "2024-09-11T17:41:21.318750Z"
    }
   },
   "cell_type": "code",
   "source": [
    "# Import matplotlib\n",
    "import matplotlib.pyplot as plt\n",
    "\n",
    "# Set number of steps to calculate:\n",
    "s = 1000\n",
    "\n",
    "# Define the x and y-axis:\n",
    "x_axis = list(range(s))\n",
    "y_axis = [pow(x, 2) for x in x_axis]\n",
    "\n",
    "\n",
    "plt.plot(x_axis, y_axis)\n",
    "plt.title(\"y = x^2\")\n",
    "plt.xlabel(\"x\")\n",
    "plt.ylabel(\"y\")\n",
    "\n",
    "plt.grid(True)\n",
    "plt.show()"
   ],
   "id": "a34dbb9745982f47",
   "outputs": [
    {
     "data": {
      "text/plain": [
       "<Figure size 640x480 with 1 Axes>"
      ],
      "image/png": "[encoded data removed]"
     },
     "metadata": {},
     "output_type": "display_data"
    }
   ],
   "execution_count": 63
  }
 ],
 "metadata": {
  "kernelspec": {
   "display_name": "Python 3",
   "language": "python",
   "name": "python3"
  },
  "language_info": {
   "codemirror_mode": {
    "name": "ipython",
    "version": 2
   },
   "file_extension": ".py",
   "mimetype": "text/x-python",
   "name": "python",
   "nbconvert_exporter": "python",
   "pygments_lexer": "ipython2",
   "version": "2.7.6"
  }
 },
 "nbformat": 4,
 "nbformat_minor": 5
}
