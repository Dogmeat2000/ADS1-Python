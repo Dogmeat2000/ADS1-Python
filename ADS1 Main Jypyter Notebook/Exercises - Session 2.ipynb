﻿{
 "cells": [
  {
   "metadata": {},
   "cell_type": "markdown",
   "source": [
    "__Exercise 2.1__\n",
    "The following Java code checks whether a number is a prime number. Turn it into pseudocode and then python code.\n",
    "\n",
    "__Java Code:__<br>\n",
    "\n",
    "    public boolean isPrime(int number) {                    \n",
    "      if (number < 2) {                                     \n",
    "         return false;                                     \n",
    "      }                                                     \n",
    "      for (int i = 2; i <= Math.sqrt(number); i++) {        \n",
    "        if (number % i == 0) {                              \n",
    "          return false;                                     \n",
    "        }                                                   \n",
    "      }                                                     \n",
    "      return true;                                          \n",
    "    }                                                       \n",
    "\n",
    "\n",
    "__Pseudo-code:__<br>\n",
    "A Prime is a number that is ONLY divisable (whole number) with itself and 1.\n",
    "\n",
    "    Algorithm: isPrime(a)\n",
    "        Input: a (positive integer)\n",
    "        \n",
    "        if (a < 2):                     #Check if input is less than 2, since there is no prime smaller than 2. (1 is not a prime)\n",
    "            return False\n",
    "    \n",
    "        for i = 2 in range i to sqrt(x) #Check if input is divisable with any number between 2 and the sqrt(input), since a prime must only be divisable with itself and 1.\n",
    "            if number % i == 0\n",
    "                return false\n",
    "        return True"
   ],
   "id": "9850f5cb28cedbf8"
  },
  {
   "metadata": {
    "collapsed": true,
    "ExecuteTime": {
     "end_time": "2024-09-10T13:40:00.584064Z",
     "start_time": "2024-09-10T13:40:00.579007Z"
    }
   },
   "cell_type": "code",
   "source": [
    "def isPrime(a):\n",
    "    if(a < 2):\n",
    "        return False\n",
    "    \n",
    "    done = False\n",
    "    i = 2\n",
    "    while not done: \n",
    "        if a % i == 0:\n",
    "            return False\n",
    "        if i + 1 < pow(a, 0.5):\n",
    "            i = i + 1\n",
    "        elif i + pow(a, 0.5) <= pow(a, 0.5):\n",
    "            done = True\n",
    "        else:\n",
    "            done = True\n",
    "    return True"
   ],
   "id": "initial_id",
   "outputs": [],
   "execution_count": 3
  },
  {
   "metadata": {
    "ExecuteTime": {
     "end_time": "2024-09-10T13:40:04.261244Z",
     "start_time": "2024-09-10T13:40:04.254727Z"
    }
   },
   "cell_type": "code",
   "source": [
    "print(\"isPrime(2) : \" + str(isPrime(2)))\n",
    "print(\"isPrime(3) : \" + str(isPrime(3)))\n",
    "print(\"isPrime(4) : \" + str(isPrime(4)))\n",
    "print(\"isPrime(5) : \" + str(isPrime(5)))\n",
    "print(\"isPrime(6) : \" + str(isPrime(6)))\n",
    "print(\"isPrime(7) : \" + str(isPrime(7)))\n",
    "print(\"isPrime(8) : \" + str(isPrime(8)))\n",
    "print(\"isPrime(9) : \" + str(isPrime(9)))\n",
    "print(\"isPrime(10) : \" + str(isPrime(10)))"
   ],
   "id": "ef0f9e803049aef5",
   "outputs": [
    {
     "name": "stdout",
     "output_type": "stream",
     "text": [
      "isPrime(2) :False\n",
      "isPrime(3) :True\n",
      "isPrime(4) :False\n",
      "isPrime(5) :True\n",
      "isPrime(6) :False\n",
      "isPrime(7) :True\n",
      "isPrime(8) :False\n",
      "isPrime(9) :True\n",
      "isPrime(10) :False\n"
     ]
    }
   ],
   "execution_count": 4
  },
  {
   "metadata": {},
   "cell_type": "markdown",
   "source": [
    "\n",
    "\n",
    "__Exercise 2.2.__\n",
    "\n",
    "Write pseudocode and python code for the following algorithms:\n",
    "\n",
    "    a)   An algorithm is_multiple(n, m), that takes two integers and returns True if n is a multiple of m (that is, n = mi for some integer i), and False otherwise.\n",
    "    \n",
    "    b)   An algorithm minmax(array), that takes an array of length > 0 and returns the smallest and largest number. Do not use the built-in min and max in your python code.\n",
    "    \n",
    "\n",
    "______________________________________________________________________________________________________________\n",
    "__Pseudocode for a)__\n",
    "\n",
    "    Algorithm: is_multiple(n, m):\n",
    "        Input: n (integer), m (integer)\n",
    "        \n",
    "        if m == 0: #Comment: Check if m is zero (avoid division with zero):\n",
    "            return False\n",
    "        else if  n % m == 0:\n",
    "            return True\n",
    "        else:\n",
    "            return False"
   ],
   "id": "b63757600d9122ed"
  },
  {
   "metadata": {
    "ExecuteTime": {
     "end_time": "2024-09-11T15:19:54.628646Z",
     "start_time": "2024-09-11T15:19:54.624417Z"
    }
   },
   "cell_type": "code",
   "source": [
    "#Python Code for a)\n",
    "\n",
    "def is_multiple(n, m):\n",
    "    if m == 0:\n",
    "        return False\n",
    "    elif n % m == 0:\n",
    "        return True\n",
    "    else:\n",
    "        return False"
   ],
   "id": "c4b5ca002fb485b1",
   "outputs": [],
   "execution_count": 4
  },
  {
   "metadata": {
    "ExecuteTime": {
     "end_time": "2024-09-11T15:28:10.978348Z",
     "start_time": "2024-09-11T15:28:10.973934Z"
    }
   },
   "cell_type": "code",
   "source": [
    "# Test 1: Should be TRUE\n",
    "n = 4\n",
    "m = 2\n",
    "print(\"is {} a multiple of {}: {}\".format(n, m, is_multiple(n, m)))\n",
    "\n",
    "# Test 2: Should be FALSE\n",
    "n = 5\n",
    "m = 3\n",
    "print(\"is {} a multiple of {}: {}\".format(n, m, is_multiple(n, m)))"
   ],
   "id": "3360ec9bbdafde48",
   "outputs": [
    {
     "name": "stdout",
     "output_type": "stream",
     "text": [
      "is 4 a multiple of 2: True\n",
      "is 5 a multiple of 3: False\n"
     ]
    }
   ],
   "execution_count": 21
  },
  {
   "metadata": {},
   "cell_type": "markdown",
   "source": [
    "__Pseudocode for b)__\n",
    "\n",
    "    Algorithm: minmax(array)\n",
    "        Input: an Array containing more than 0 float values\n",
    "        \n",
    "        min = Array[0] #First element in array.\n",
    "        max = Array[0] #First element in array.\n",
    "    \n",
    "        foreach float in array:\n",
    "            if float > max:\n",
    "                min = float\n",
    "            else if float < min:\n",
    "                max = float\n",
    "                \n",
    "        return [min, max]"
   ],
   "id": "d1fbc3969b54b65b"
  },
  {
   "metadata": {
    "ExecuteTime": {
     "end_time": "2024-09-11T15:44:09.745547Z",
     "start_time": "2024-09-11T15:44:09.741040Z"
    }
   },
   "cell_type": "code",
   "source": [
    "#Python Code for b)\n",
    "\n",
    "def minmax(array):\n",
    "    min = array[0]\n",
    "    max = array[0]\n",
    "    \n",
    "    for float in array:\n",
    "        if float > max:\n",
    "            max = float\n",
    "        elif float < min:\n",
    "            min = float\n",
    "    return [min, max]"
   ],
   "id": "57e378dc4a8a796d",
   "outputs": [],
   "execution_count": 27
  },
  {
   "metadata": {
    "ExecuteTime": {
     "end_time": "2024-09-11T15:44:13.243996Z",
     "start_time": "2024-09-11T15:44:13.236997Z"
    }
   },
   "cell_type": "code",
   "source": [
    "# Test 1: Should be lowerNumber = 0 and upperNumber = 10\n",
    "array = [0, 1, 2, 3, 4, 5, 6, 7, 8, 9, 10]\n",
    "print(\"In Array {}, min = {} and max = {}\".format(array, minmax(array)[0], minmax(array)[1]))\n",
    "\n",
    "# Test 2: Should be lowerNumber = 53 and upperNumber = 925\n",
    "array = [925, 924, 54, 105, 408, 53, 667, 701, 856, 901, 101]\n",
    "print(\"In Array {}, min = {} and max = {}\".format(array, minmax(array)[0], minmax(array)[1]))"
   ],
   "id": "6c1213d7004aa591",
   "outputs": [
    {
     "name": "stdout",
     "output_type": "stream",
     "text": [
      "In Array [0, 1, 2, 3, 4, 5, 6, 7, 8, 9, 10], min = 0 and max = 10\n",
      "In Array [925, 924, 54, 105, 408, 53, 667, 701, 856, 901, 101], min = 53 and max = 925\n"
     ]
    }
   ],
   "execution_count": 28
  }
 ],
 "metadata": {
  "kernelspec": {
   "display_name": "Python 3",
   "language": "python",
   "name": "python3"
  },
  "language_info": {
   "codemirror_mode": {
    "name": "ipython",
    "version": 2
   },
   "file_extension": ".py",
   "mimetype": "text/x-python",
   "name": "python",
   "nbconvert_exporter": "python",
   "pygments_lexer": "ipython2",
   "version": "2.7.6"
  }
 },
 "nbformat": 4,
 "nbformat_minor": 5
}
