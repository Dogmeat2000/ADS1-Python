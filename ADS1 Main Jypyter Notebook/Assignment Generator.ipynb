{
 "cells": [
  {
   "cell_type": "code",
   "id": "f7be49c0-695d-4f15-bb31-0dea20cfee7c",
   "metadata": {
    "ExecuteTime": {
     "end_time": "2025-01-04T14:28:22.666990Z",
     "start_time": "2025-01-04T14:28:20.835746Z"
    }
   },
   "source": [
    "from random import randint, sample, random, shuffle, choice\n",
    "from math import log, floor\n",
    "import nltk\n",
    "nltk.download('gutenberg')\n",
    "from nltk.corpus import gutenberg\n",
    "import heapq\n",
    "import networkx as nx\n",
    "import matplotlib.pyplot as plt"
   ],
   "outputs": [
    {
     "name": "stderr",
     "output_type": "stream",
     "text": [
      "[nltk_data] Downloading package gutenberg to\n",
      "[nltk_data]     C:\\Users\\krige\\AppData\\Roaming\\nltk_data...\n",
      "[nltk_data]   Package gutenberg is already up-to-date!\n"
     ]
    }
   ],
   "execution_count": 2
  },
  {
   "cell_type": "code",
   "id": "8fff0f91-a3b3-4cd6-b099-0a4ddf79e402",
   "metadata": {
    "ExecuteTime": {
     "end_time": "2025-01-04T14:28:22.707742Z",
     "start_time": "2025-01-04T14:28:22.694698Z"
    }
   },
   "source": [
    "# class to implement node of RB Tree\n",
    "class RBNode:\n",
    "        # cnostructor\n",
    "    def __init__(self, value, color='red'):\n",
    "        self.value = value\n",
    "        self.color = color\n",
    "        self.left = None\n",
    "        self.right = None\n",
    "        self.parent = None\n",
    "        self.lst = []\n",
    "\n",
    "    # function to get the grandparent of node\n",
    "    def grandparent(self):\n",
    "        if self.parent is None:\n",
    "            return None\n",
    "        return self.parent.parent\n",
    "\n",
    "    # function to get the sibling of node\n",
    "    def sibling(self):\n",
    "        if self.parent is None:\n",
    "            return None\n",
    "        if self == self.parent.left:\n",
    "            return self.parent.right\n",
    "        return self.parent.left\n",
    "\n",
    "    # function to get the uncle of node\n",
    "    def uncle(self):\n",
    "        if self.parent is None:\n",
    "            return None\n",
    "        return self.parent.sibling()\n",
    "\n",
    "# function to implement Red Black Tree\n",
    "\n",
    "\n",
    "class RedBlackTree:\n",
    "        # constructor to initialize the RB tree\n",
    "    def __init__(self):\n",
    "        self.root = None\n",
    "\n",
    "    # function to search a value in RB Tree\n",
    "    def search(self, value):\n",
    "        curr_node = self.root\n",
    "        while curr_node is not None:\n",
    "            if value == curr_node.value:\n",
    "                return curr_node\n",
    "            elif value < curr_node.value:\n",
    "                curr_node = curr_node.left\n",
    "            else:\n",
    "                curr_node = curr_node.right\n",
    "        return None\n",
    "\n",
    "    # function to insert a node in RB Tree, similar to BST insertion\n",
    "    def insert(self, value):\n",
    "        # Regular insertion\n",
    "        new_node = RBNode(value)\n",
    "        if self.root is None:\n",
    "            self.root = new_node\n",
    "        else:\n",
    "            curr_node = self.root\n",
    "            while True:\n",
    "                if value < curr_node.value:\n",
    "                    if curr_node.left is None:\n",
    "                        curr_node.left = new_node\n",
    "                        new_node.parent = curr_node\n",
    "                        break\n",
    "                    else:\n",
    "                        curr_node = curr_node.left\n",
    "                else:\n",
    "                    if curr_node.right is None:\n",
    "                        curr_node.right = new_node\n",
    "                        new_node.parent = curr_node\n",
    "                        break\n",
    "                    else:\n",
    "                        curr_node = curr_node.right\n",
    "        self.insert_fix(new_node)\n",
    "\n",
    "    # Function to fix RB tree properties after insertion\n",
    "    def insert_fix(self, new_node):\n",
    "        while new_node.parent and new_node.parent.color == 'red':\n",
    "            if new_node.parent == new_node.grandparent().left:\n",
    "                uncle = new_node.uncle()\n",
    "                if uncle and uncle.color == 'red':\n",
    "                    new_node.parent.color = 'black'\n",
    "                    uncle.color = 'black'\n",
    "                    new_node.grandparent().color = 'red'\n",
    "                    new_node = new_node.grandparent()\n",
    "                else:\n",
    "                    if new_node == new_node.parent.right:\n",
    "                        new_node = new_node.parent\n",
    "                        self.rotate_left(new_node)\n",
    "                    new_node.parent.color = 'black'\n",
    "                    new_node.grandparent().color = 'red'\n",
    "                    self.rotate_right(new_node.grandparent())\n",
    "            else:\n",
    "                uncle = new_node.uncle()\n",
    "                if uncle and uncle.color == 'red':\n",
    "                    new_node.parent.color = 'black'\n",
    "                    uncle.color = 'black'\n",
    "                    new_node.grandparent().color = 'red'\n",
    "                    new_node = new_node.grandparent()\n",
    "                else:\n",
    "                    if new_node == new_node.parent.left:\n",
    "                        new_node = new_node.parent\n",
    "                        self.rotate_right(new_node)\n",
    "                    new_node.parent.color = 'black'\n",
    "                    new_node.grandparent().color = 'red'\n",
    "                    self.rotate_left(new_node.grandparent())\n",
    "        self.root.color = 'black'\n",
    "\n",
    "    # Function for left rotation of RB Tree\n",
    "    def rotate_left(self, node):\n",
    "        right_child = node.right\n",
    "        node.right = right_child.left\n",
    "\n",
    "        if right_child.left is not None:\n",
    "            right_child.left.parent = node\n",
    "\n",
    "        right_child.parent = node.parent\n",
    "\n",
    "        if node.parent is None:\n",
    "            self.root = right_child\n",
    "        elif node == node.parent.left:\n",
    "            node.parent.left = right_child\n",
    "        else:\n",
    "            node.parent.right = right_child\n",
    "\n",
    "        right_child.left = node\n",
    "        node.parent = right_child\n",
    "\n",
    "    # function for right rotation of RB Tree\n",
    "    def rotate_right(self, node):\n",
    "        left_child = node.left\n",
    "        node.left = left_child.right\n",
    "\n",
    "        if left_child.right is not None:\n",
    "            left_child.right.parent = node\n",
    "\n",
    "        left_child.parent = node.parent\n",
    "\n",
    "        if node.parent is None:\n",
    "            self.root = left_child\n",
    "        elif node == node.parent.right:\n",
    "            node.parent.right = left_child\n",
    "        else:\n",
    "            node.parent.left = left_child\n",
    "\n",
    "        left_child.right = node\n",
    "        node.parent = left_child"
   ],
   "outputs": [],
   "execution_count": 3
  },
  {
   "cell_type": "code",
   "id": "2e8405cf-29fd-4e9d-bc3e-d6d10a0b9cb2",
   "metadata": {
    "ExecuteTime": {
     "end_time": "2025-01-04T14:28:22.721287Z",
     "start_time": "2025-01-04T14:28:22.712743Z"
    }
   },
   "source": [
    "def flagTermBigger(terms, base, flag1, flag2):\n",
    "    flag12 = terms[flag1] + '*' + terms[flag2]\n",
    "    flag21 = terms[flag2] + '*' + terms[flag1]\n",
    "    superscriptMap = {2: '²', 3: '³', 4: '⁴', 5: '⁵', 6: '⁶', 7: '⁷', 8: '⁸'}\n",
    "    exponent = flag1 + flag2 - 6\n",
    "    if base == 2: #log(n)\n",
    "        if flag1 == 2:\n",
    "            if flag2 == 2:\n",
    "                return True, 'log(n)²'\n",
    "            else:\n",
    "                return True, flag12\n",
    "    elif base == 3: #√n\n",
    "        if flag1 == 2:\n",
    "            if flag2 >= 4:\n",
    "                return True, flag21\n",
    "    elif base == 4: #n\n",
    "        if flag1 == 2:\n",
    "            if flag2 >= 4:\n",
    "                return True, flag21\n",
    "        elif flag1 == 4:\n",
    "            if flag2 in [2, 3, 8]:\n",
    "                return True, flag12\n",
    "            elif flag2 in [4, 5, 6, 7]:\n",
    "                return True, 'n' + superscriptMap[exponent]\n",
    "    elif base == 5: #n^2\n",
    "        if flag1 == 2:\n",
    "            if flag2 >= 5:\n",
    "                return True, flag21\n",
    "        elif flag1 in [4, 5]:\n",
    "            if flag1 == 5 and flag2 in [2, 3]:\n",
    "                return True, flag12\n",
    "            elif flag2 in [4, 5, 6, 7]:\n",
    "                return True, 'n' + superscriptMap[exponent]\n",
    "            elif flag2 == 8:\n",
    "                return True, flag12\n",
    "    elif base == 6: #n^3\n",
    "        if flag1 == 2:\n",
    "            if flag2 >=6:\n",
    "                return True, flag21\n",
    "        elif flag1 in [4, 5, 6]:\n",
    "            if flag1 == 6 and flag2 in [2, 3]:\n",
    "                return True, flag12\n",
    "            elif flag2 in [4, 5, 6, 7]:\n",
    "                if exponent > 3:\n",
    "                    return True, 'n' + superscriptMap[exponent]\n",
    "            elif flag2 == 8:\n",
    "                return True, flag12\n",
    "    elif base == 7: #n^4\n",
    "        if flag1 == 2:\n",
    "            if flag2 >=7:\n",
    "                return True, flag21\n",
    "        elif flag1 in [4, 5, 6, 7]:\n",
    "            if flag1 == 7 and flag2 in [2, 3]:\n",
    "                return True, flag12\n",
    "            elif flag2 in [4, 5, 6, 7]:\n",
    "                if exponent > 4:\n",
    "                    return True, 'n' + superscriptMap[exponent]\n",
    "            elif flag2 == 8:\n",
    "                return True, flag12\n",
    "    return False, 0"
   ],
   "outputs": [],
   "execution_count": 4
  },
  {
   "cell_type": "code",
   "id": "5a4b9f64-f5fb-4093-b57f-578a44632e83",
   "metadata": {
    "ExecuteTime": {
     "end_time": "2025-01-04T14:28:22.737643Z",
     "start_time": "2025-01-04T14:28:22.730951Z"
    }
   },
   "source": [
    "def timeComplexity(): #something about n*n4 and so on\n",
    "    terms = ['/n!', '', 'log(n)', '√n', 'n', 'n²', 'n³', 'n⁴', '*2ⁿ']\n",
    "    numberOfTerms = randint(2, 4)\n",
    "    frontFactors = sample(range(1, 50), numberOfTerms)\n",
    "    termsWithN = sample(range(len(terms)-1), numberOfTerms)\n",
    "    extraTerm = randint(2, 7)\n",
    "    whereToPutExtraTerm = randint(0, numberOfTerms)\n",
    "    timeFunction = 'T(n) = '\n",
    "    flag = -1\n",
    "    for i in range(numberOfTerms):\n",
    "        timeFunction += str(frontFactors[i])\n",
    "        timeFunction += terms[termsWithN[i]]\n",
    "        if i == whereToPutExtraTerm and termsWithN[i] not in [0, 1, 3, 8]:\n",
    "            timeFunction += '*'\n",
    "            timeFunction += terms[extraTerm]\n",
    "            flag = i\n",
    "        if i < numberOfTerms - 1:\n",
    "            timeFunction += ' + '\n",
    "\n",
    "    idxCorrectAnswer = max(termsWithN)\n",
    "    if idxCorrectAnswer == 1:\n",
    "        correctAnswer = '1'\n",
    "    elif idxCorrectAnswer == 8:\n",
    "        correctAnswer = '2ⁿ'\n",
    "    else:\n",
    "        correctAnswer = terms[idxCorrectAnswer]\n",
    "    \n",
    "    if flag != -1:\n",
    "        if flagTermBigger(terms, idxCorrectAnswer, termsWithN[flag], extraTerm)[0]:\n",
    "            correctAnswer = flagTermBigger(terms, idxCorrectAnswer, termsWithN[flag], extraTerm)[1]\n",
    "\n",
    "    print('Given the following time function T(n), indicate the time complexity in Big-Oh notation.')\n",
    "    print('If more than one function is correct, choose the one with the slowest growth rate.')\n",
    "    print(timeFunction)\n",
    "    answer = 'O({})'.format(correctAnswer)\n",
    "    return answer"
   ],
   "outputs": [],
   "execution_count": 5
  },
  {
   "cell_type": "code",
   "id": "45341eba-d3e5-4571-a863-b17a4603ef5f",
   "metadata": {
    "ExecuteTime": {
     "end_time": "2025-01-04T14:28:22.761616Z",
     "start_time": "2025-01-04T14:28:22.754590Z"
    }
   },
   "source": [
    "def masterTheorem():\n",
    "    a = randint(1, 5)\n",
    "    b = randint(2, 5)\n",
    "    k = randint(0, 2)\n",
    "\n",
    "    if a < b**k:\n",
    "        if k == 0:\n",
    "            answer = 'O(1)'\n",
    "        elif k == 1:\n",
    "            answer = 'O(n)'\n",
    "        else:\n",
    "            answer = 'O(n²)'\n",
    "    elif a == b**k:\n",
    "        if k == 0:\n",
    "            answer = 'O(log(n))'\n",
    "        elif k == 1:\n",
    "            answer = 'O(n*log(n))'\n",
    "        else:\n",
    "            answer = 'O(n²*log(n))'\n",
    "    elif a > b**k:\n",
    "        exponent = log(a, b)\n",
    "        if exponent == 1:\n",
    "            answer = 'O(n)'\n",
    "        elif exponent == 0.5:\n",
    "            answer = 'O(√n)'\n",
    "        elif exponent == 2:\n",
    "            answer = 'O(n²)'\n",
    "        elif exponent == int(exponent) or 2*exponent == int(2*exponent):\n",
    "            answer = 'O(n^{})'.format(exponent)\n",
    "        else:\n",
    "            answer = 'O(n^log{}({}))'.format(b, a)\n",
    "        \n",
    "   \n",
    "    print('Given the following time function T(n), indicate the time complexity in Big-Oh notation.')\n",
    "    print('If more than one function is correct, choose the one with the slowest growth rate.')\n",
    "    p = randint(2, 5)\n",
    "    if k == 0:\n",
    "        print('T(n) = {} * T(n/{}) + {}'.format(a, b, p))\n",
    "    elif k == 1:\n",
    "        print('T(n) = {} * T(n/{}) + {}n'.format(a, b, p))\n",
    "    else:\n",
    "        print('T(n) = {} * T(n/{}) + {}n²'.format(a, b, p))\n",
    "    return answer"
   ],
   "outputs": [],
   "execution_count": 6
  },
  {
   "cell_type": "code",
   "id": "c1eac8ae-f8b2-492e-b6a9-c23c70e70aa7",
   "metadata": {
    "ExecuteTime": {
     "end_time": "2025-01-04T14:28:22.772794Z",
     "start_time": "2025-01-04T14:28:22.766619Z"
    }
   },
   "source": [
    "def huffmanCoding():\n",
    "    moby = set(nltk.Text(gutenberg.words('melville-moby_dick.txt')))\n",
    "    moby = [word.upper() for word in moby if len(word) > 5 and len(word) < 9]\n",
    "    while True:\n",
    "        try:\n",
    "            answer = moby[int(random()*len(set(moby)))]\n",
    "            letters = list(set(answer))\n",
    "            assert len(letters) == 5\n",
    "            break\n",
    "        except AssertionError:\n",
    "            pass\n",
    "    bitMap = {letters[0]: '00', letters[1]: '01', letters[2]: '10', letters[3]: '110', letters[4]: '111'}\n",
    "    huffmanCode = ''\n",
    "    for letter in answer:\n",
    "        huffmanCode += bitMap[letter]\n",
    "    print('Using the Huffman tree below, decode the bit string {} and indicate the corresponding word.'.format(huffmanCode))\n",
    "    print('')\n",
    "    print('        .')\n",
    "    print('      /   \\\\ ')\n",
    "    print('     .     .')\n",
    "    print('    / \\\\   / \\\\ ')\n",
    "    print('   {}   {} {}   .'.format(letters[0], letters[1], letters[2]))\n",
    "    print('            / \\\\ ')\n",
    "    print('           {}   {}'.format(letters[3], letters[4]))\n",
    "    return answer"
   ],
   "outputs": [],
   "execution_count": 7
  },
  {
   "cell_type": "code",
   "id": "c7932b7a-1e8a-4ba5-96da-a39e1cc3b929",
   "metadata": {
    "ExecuteTime": {
     "end_time": "2025-01-04T14:28:22.786661Z",
     "start_time": "2025-01-04T14:28:22.782335Z"
    }
   },
   "source": [
    "def heapInsertion():\n",
    "    numbers = list(set(sample(range(1, 50), 8)))\n",
    "    print('Insert into an initially empty min-heap the following numbers in the following order:')\n",
    "    print(*numbers, sep=\", \")\n",
    "    print('Indicate the correct array representation of the resulting min-heap.')\n",
    "    heapq.heapify(numbers)\n",
    "    return numbers"
   ],
   "outputs": [],
   "execution_count": 8
  },
  {
   "cell_type": "code",
   "id": "3df07c8a-add5-4275-a2cd-dbd1c66a68fa",
   "metadata": {
    "ExecuteTime": {
     "end_time": "2025-01-04T14:28:22.800704Z",
     "start_time": "2025-01-04T14:28:22.794104Z"
    }
   },
   "source": [
    "def radixSort():\n",
    "    numbers = []\n",
    "    for i in range(4):\n",
    "        numbers.append('')\n",
    "        for j in range(4):\n",
    "            numbers[i] += str(randint(0, 4))\n",
    "    for i in range(4, 6):\n",
    "        numbers.append('')\n",
    "        idx = randint(0, 3)\n",
    "        for j in range(2):\n",
    "            numbers[i] += str(randint(0, 4))\n",
    "        numbers[i] += numbers[idx][2:]\n",
    "\n",
    "    shuffle(numbers)\n",
    "\n",
    "    print('Consider the following list of numbers:')\n",
    "    print([int(number) for number in numbers])\n",
    "    print('We sort the list using RadixSort.')\n",
    "    print('Indicate the partially sorted list after the numbers have been sorted by the two least significant digits.')\n",
    "\n",
    "    for i in range(3, 1, -1):\n",
    "        lst = []\n",
    "        for j in range(6):\n",
    "            lst.append(int(numbers[j][i]))\n",
    "        order = sorted(list(range(len(lst))), key=lambda i: lst[i])\n",
    "        numbers = [numbers[i] for i in order]\n",
    "\n",
    "    return [int(number) for number in numbers]"
   ],
   "outputs": [],
   "execution_count": 9
  },
  {
   "cell_type": "code",
   "id": "15f49c18-3b5b-4194-9a2b-5ced3d251c70",
   "metadata": {
    "ExecuteTime": {
     "end_time": "2025-01-04T14:28:22.814054Z",
     "start_time": "2025-01-04T14:28:22.808030Z"
    }
   },
   "source": [
    "def bucketSort():\n",
    "    numbers = []\n",
    "    k = randint(5, 8)\n",
    "    M = k*100 - 1\n",
    "    numbers.append(M)\n",
    "    for i in range(k-1):\n",
    "        numbers.append(randint(0, M))\n",
    "    shuffle(numbers)\n",
    "    buckets = [[] for _ in range(k)]\n",
    "    for i in range(k):\n",
    "        buckets[floor(k*numbers[i]/(M+1))].append(numbers[i])\n",
    "\n",
    "    print('Consider the following list of numbers:')\n",
    "    print(numbers)\n",
    "    print('We sort the list using BucketSort with k = {}.'.format(k))\n",
    "    print('How does the array buckets look after inserting elements into it, but before using InsertionSort?')\n",
    "\n",
    "    answer = ''\n",
    "    for i in range(k):\n",
    "        answer += '['\n",
    "        if buckets[i]:\n",
    "            for j in range(len(buckets[i]) - 1):\n",
    "                answer += str(buckets[i][j]) + '] --> ['\n",
    "            answer += str(buckets[i][-1])\n",
    "        answer += ']\\n'\n",
    "    return answer"
   ],
   "outputs": [],
   "execution_count": 10
  },
  {
   "cell_type": "code",
   "id": "16ff6dec-d6d8-4bca-9fef-371cb806d4e1",
   "metadata": {
    "ExecuteTime": {
     "end_time": "2025-01-04T14:28:22.825999Z",
     "start_time": "2025-01-04T14:28:22.821502Z"
    }
   },
   "source": [
    "def heapExtractMin():\n",
    "    numbers = list(set(sample(range(1, 50), 8)))\n",
    "    heapq.heapify(numbers)\n",
    "    howManyTimes = randint(2,3)\n",
    "    print('Consider the following heap, represented as an array:')\n",
    "    print(numbers)\n",
    "    print('Indicate the array representation of the heap after removing the minimum element {} times.'.format(howManyTimes))\n",
    "    for _ in range(howManyTimes):\n",
    "        heapq.heappop(numbers)\n",
    "    return numbers"
   ],
   "outputs": [],
   "execution_count": 11
  },
  {
   "cell_type": "code",
   "id": "8b449ca5-f43f-4ba2-b8e2-2330aa101e20",
   "metadata": {
    "ExecuteTime": {
     "end_time": "2025-01-04T14:28:22.839108Z",
     "start_time": "2025-01-04T14:28:22.835018Z"
    }
   },
   "source": [
    "def simpleBucketSort():\n",
    "    potentialMax = randint(10, 14)\n",
    "    sampleAmount = randint(6, 9)\n",
    "    numbers = list(set(sample(range(0, potentialMax), sampleAmount)))\n",
    "    shuffle(numbers)\n",
    "    M = max(numbers)\n",
    "    buckets = [0 for _ in range(M+1)]\n",
    "    for i in range(len(numbers)):\n",
    "        buckets[numbers[i]] = 1\n",
    "\n",
    "    print('Consider the following list of numbers:')\n",
    "    print(numbers)\n",
    "    print('We sort the list using SimpleBucketSort.')\n",
    "    print('How does the array buckets look after executing the algorithm?')\n",
    "\n",
    "    return buckets"
   ],
   "outputs": [],
   "execution_count": 12
  },
  {
   "cell_type": "code",
   "id": "7814f22a-f57b-41df-be28-5e8a77d965ef",
   "metadata": {
    "ExecuteTime": {
     "end_time": "2025-01-04T14:28:22.851730Z",
     "start_time": "2025-01-04T14:28:22.848200Z"
    }
   },
   "source": [
    "def redBlackInsert():\n",
    "    numbers = list(set(sample(range(1, 20), 8)))\n",
    "    shuffle(numbers)\n",
    "    print('Insert the following numbers into an initially empty red-black tree in the following order:')\n",
    "    print(*numbers, sep = ', ')\n",
    "    tree = RedBlackTree()\n",
    "    for number in numbers:\n",
    "        tree.insert(number)\n",
    "    print('After inserting all elements, what is the root of the tree?')\n",
    "    return tree.root.value"
   ],
   "outputs": [],
   "execution_count": 13
  },
  {
   "cell_type": "code",
   "id": "91d26eab-bbcb-4c70-a8fa-2366caecc0c5",
   "metadata": {
    "ExecuteTime": {
     "end_time": "2025-01-04T14:28:22.865492Z",
     "start_time": "2025-01-04T14:28:22.859074Z"
    }
   },
   "source": [
    "def createGraph():\n",
    "    G = nx.Graph()\n",
    "    G.add_nodes_from(['A', 'B', 'C', 'D', 'E', 'F', 'G'])\n",
    "\n",
    "    possible_weights = set(range(1, 20)) - {6,8,9}\n",
    "    edges_with_weights = []\n",
    "    for node in G:\n",
    "        weight = choice(list(possible_weights))\n",
    "        possible_weights -= {weight}\n",
    "        if node == 'G':\n",
    "            break\n",
    "        neighbor = chr(ord(node) + 1)\n",
    "        edges_with_weights.append((node, neighbor, weight))\n",
    "\n",
    "    for i in range(5):\n",
    "        weight = choice(list(possible_weights))\n",
    "        possible_weights -= {weight}\n",
    "        nodes = [node for node in G]\n",
    "        node1 = choice(nodes)\n",
    "        node2 = choice(list(set(nodes) - {node1}))\n",
    "        if not G.has_edge(node1, node2) and node1 != node2:\n",
    "            edges_with_weights.append((node1, node2, weight))\n",
    "        \n",
    "    G.add_weighted_edges_from(edges_with_weights)\n",
    "    return G"
   ],
   "outputs": [],
   "execution_count": 14
  },
  {
   "cell_type": "code",
   "id": "daa01db7-cdf9-4aa4-93a6-e1846f998e27",
   "metadata": {
    "ExecuteTime": {
     "end_time": "2025-01-04T14:28:22.877453Z",
     "start_time": "2025-01-04T14:28:22.872828Z"
    }
   },
   "source": [
    "def drawGraph(G):\n",
    "    pos = nx.circular_layout(G)  # Layout for the graph\n",
    "    plt.figure(figsize=(4, 3))\n",
    "    nx.draw(\n",
    "        G, pos, with_labels=True, node_color=\"lightgreen\", node_size=800, \n",
    "        edge_color=\"gray\", font_size=15\n",
    "    )\n",
    "    edge_labels = nx.get_edge_attributes(G, \"weight\")\n",
    "    nx.draw_networkx_edge_labels(G, pos, edge_labels=edge_labels, font_size=12)\n",
    "    plt.show()"
   ],
   "outputs": [],
   "execution_count": 15
  },
  {
   "cell_type": "code",
   "id": "e199eef4-4b02-4501-a3af-87899fbfd179",
   "metadata": {
    "ExecuteTime": {
     "end_time": "2025-01-04T14:28:22.890543Z",
     "start_time": "2025-01-04T14:28:22.885586Z"
    }
   },
   "source": [
    "def dijkstra():\n",
    "    G = createGraph()\n",
    "    print('Consider the following weighted graph:')\n",
    "    drawGraph(G)\n",
    "    print('Indicate the order in which the vertices are visited (declared \"known\") when running Dijkstras algorithm starting from vertex A.')\n",
    "    print('Assume that adjacency lists are sorted alphabetically.')\n",
    "\n",
    "    #dijkstra\n",
    "    source = 'A'\n",
    "    distances = {node: float(\"inf\") for node in G}\n",
    "    distances[source] = 0  # Set the source value to 0\n",
    "\n",
    "    pq = [(0, source)]\n",
    "    heapq.heapify(pq)\n",
    "\n",
    "    visited = []\n",
    "    while pq:  # While the priority queue isn't empty\n",
    "       current_distance, current_node = heapq.heappop(pq)\n",
    "\n",
    "       if current_node in visited:\n",
    "           continue \n",
    "       visited.append(current_node)\n",
    "    \n",
    "       for neighbor in sorted(G.neighbors(current_node)):\n",
    "           weight = G[current_node][neighbor]['weight']\n",
    "           # Calculate the distance from current_node to the neighbor\n",
    "           tentative_distance = current_distance + weight\n",
    "           if tentative_distance < distances[neighbor]:\n",
    "               distances[neighbor] = tentative_distance\n",
    "               heapq.heappush(pq, (tentative_distance, neighbor))\n",
    "\n",
    "    return visited"
   ],
   "outputs": [],
   "execution_count": 16
  },
  {
   "cell_type": "code",
   "id": "81044b6b-1d6e-4345-8edb-baf626103394",
   "metadata": {
    "ExecuteTime": {
     "end_time": "2025-01-04T14:28:22.904105Z",
     "start_time": "2025-01-04T14:28:22.898134Z"
    }
   },
   "source": [
    "def prim():\n",
    "    G = createGraph()\n",
    "    print('Consider the following weighted graph:')\n",
    "    drawGraph(G)\n",
    "    print('Indicate the order in which the edges are added to the MST when running Prim\\'s algorithm starting from vertex A.')\n",
    "\n",
    "    #prim\n",
    "    source = 'A'\n",
    "    distances = {node: float(\"inf\") for node in G}\n",
    "    distances[source] = 0  # Set the source value to 0\n",
    "\n",
    "    pq = [(0, source, None)]\n",
    "    heapq.heapify(pq)\n",
    "\n",
    "    visited = []\n",
    "    mst = []\n",
    "    while pq:  # While the priority queue isn't empty\n",
    "        current_distance, current_node, parent = heapq.heappop(pq)\n",
    "\n",
    "        if current_node in visited:\n",
    "            continue \n",
    "        visited.append(current_node)\n",
    "        if parent != None:\n",
    "            mst.append((parent, current_node))\n",
    "    \n",
    "        for neighbor in sorted(G.neighbors(current_node)):\n",
    "            weight = G[current_node][neighbor]['weight']\n",
    "            if weight < distances[neighbor]:\n",
    "                distances[neighbor] = weight\n",
    "                heapq.heappush(pq, (weight, neighbor, current_node))\n",
    "\n",
    "    return mst"
   ],
   "outputs": [],
   "execution_count": 17
  },
  {
   "cell_type": "code",
   "id": "0756622d-891b-45f9-882b-7683f934a815",
   "metadata": {
    "ExecuteTime": {
     "end_time": "2025-01-04T14:28:22.918692Z",
     "start_time": "2025-01-04T14:28:22.912716Z"
    }
   },
   "source": [
    "def find(parent, node):\n",
    "    if parent[node] != node:\n",
    "        parent[node] = find(parent, parent[node])  # Path compression\n",
    "    return parent[node]\n",
    "\n",
    "def union(parent, rank, node1, node2):\n",
    "    root1 = find(parent, node1)\n",
    "    root2 = find(parent, node2)\n",
    "    \n",
    "    if root1 != root2:\n",
    "        if rank[root1] > rank[root2]:\n",
    "            parent[root2] = root1\n",
    "        elif rank[root1] < rank[root2]:\n",
    "            parent[root1] = root2\n",
    "        else:\n",
    "            parent[root2] = root1\n",
    "            rank[root1] += 1\n",
    "\n",
    "def kruskal():\n",
    "    G = createGraph()\n",
    "    print('Consider the following weighted graph:')\n",
    "    drawGraph(G)\n",
    "    print('Indicate the order in which the edges are added to the MST when running Kruskal\\'s algorithm.')\n",
    "\n",
    "    sorted_edges = sorted(G.edges(data=True), key=lambda edge: edge[2]['weight'])\n",
    "    parent = {node: node for node in G.nodes}\n",
    "    rank = {node: 0 for node in G.nodes}\n",
    "\n",
    "    mst = []\n",
    "\n",
    "    for edge in sorted_edges:\n",
    "        u, v, data = edge\n",
    "        if find(parent, u) != find(parent, v):\n",
    "            union(parent, rank, u, v)\n",
    "            mst.append((u, v))\n",
    "            \n",
    "    return mst"
   ],
   "outputs": [],
   "execution_count": 18
  },
  {
   "cell_type": "code",
   "id": "bc621612-3fed-41bc-a8e4-961baf09de3a",
   "metadata": {
    "ExecuteTime": {
     "end_time": "2025-01-04T14:28:22.935616Z",
     "start_time": "2025-01-04T14:28:22.927997Z"
    }
   },
   "source": [
    "def buildHuffmanTree():\n",
    "    wordsWithFewUniqueLetters = ['ACACIA', 'ADDLED', 'ARREAR', 'ASSETS', 'ASSIST', 'ATTEST', 'BABBLE', 'BAOBAB', 'BASSES', 'BEETLE', 'BEEVES', \n",
    "                                 'BOBBED', 'BOBBIN', 'BOBBLE', 'BUBBLE', 'CABALA', 'CESSES', 'DEEMED', 'DIDDLE', 'ELEVEN', 'EXCEED', 'FEEBLE', \n",
    "                                 'FEELER', 'FEELIE', 'FESSES', 'FLUFFY', 'GAGGLE', 'GIGGLE', 'GOGGLE', 'GROGGY', 'HEELER', 'HORROR', 'JEEVES', \n",
    "                                 'JESSES', 'KABALA', 'KAMALA', 'KANARA', 'LASSES', 'LEASEE', 'LOSSES', 'MASSES', 'MESSES', 'MISSES', 'MOSSES', \n",
    "                                 'MUMMER', 'NESSES', 'OBSESS', 'OOLOGY', 'OOLONG', 'PAPPUS', 'PASSES', 'PEEKED', 'PEEKER', 'PEELED', 'PEELER', \n",
    "                                 'PEEPED', 'PEEPER', 'PEERIE', 'PEPPER', 'POPPER', 'RECEDE', 'REEVES', 'REHEEL', 'REVERE', 'ROCOCO', 'SASHES', \n",
    "                                 'SECEDE', 'SEEMED', 'SENSES', 'SERENE', 'SEVERE', 'SYZYGY', 'TATTLE', 'TEEMED', 'TEETER', 'TEETHE', 'TERROR', \n",
    "                                 'TESSES', 'TITTLE', 'TOSSES', 'TOTTER', 'DEEDED', 'ESSENES', 'FEOFFEE', 'MESEEMS', 'ENTENTE', 'ASSISTS', \n",
    "                                 'DIDDLED', 'GAGGING', 'POSSESS', 'BOOTHOOK', 'KALAAZAR', 'MASSLESS', 'SCISSORS', 'ASSASSIN', 'BIZZBUZZ', 'COOKBOOK', \n",
    "                                 'EXCEEDED', 'LOSSLESS', 'PEETWEET', 'REHEELER', 'REVERSEE', 'STRESSES', 'REDEEDED', 'ASSESSES',\n",
    "                                 'SLEEPLESS', 'SEVENTEEN', 'UNCUNNING', 'SENSELESS', 'BEEKEEPER', 'POSSESSES', 'BUBBLEBATH', 'INHIBITION', \n",
    "                                 'VISIBILITY', 'STRESSLESS', 'HUBBLEBUBBLE', 'LOSSLESSNESS', 'SENSELESSNESS', 'INDIVISIBILITY']\n",
    "    #source = https://view.officeapps.live.com/op/view.aspx?src=https%3A%2F%2Fwww.puzzlemuseum.com%2Fsingma%2Fsingma5%2FLANGUAGE%2FWORDCURI.DOC&wdOrigin=BROWSELINK\n",
    "    word = choice(wordsWithFewUniqueLetters)\n",
    "    print('Build a Huffman tree to optimally compress the word {}. How many bits are in the encoded bit string?'.format(word))\n",
    "\n",
    "    letters = dict()\n",
    "    for letter in word:\n",
    "        freq = word.count(letter)\n",
    "        letters[letter] = freq\n",
    "    freqs = letters.copy()\n",
    "    \n",
    "    bitLength = dict()\n",
    "    for letter in letters:\n",
    "        bitLength[letter] = 1\n",
    "\n",
    "    while letters:\n",
    "        node1 = min(letters, key = letters.get)\n",
    "        freq1 = letters[node1]\n",
    "        del letters[node1]\n",
    "        node2 = min(letters, key = letters.get)\n",
    "        freq2 = letters[node2]\n",
    "        del letters[node2]\n",
    "        if letters:\n",
    "            letters[node1 + node2] = freq1 + freq2\n",
    "            for letter in node1 + node2:\n",
    "                bitLength[letter] += 1\n",
    "                \n",
    "    return sum(freqs[k]*bitLength[k] for k in freqs)"
   ],
   "outputs": [],
   "execution_count": 19
  },
  {
   "cell_type": "code",
   "id": "7e5c8fdd-674a-43aa-a631-01e46e4ce8ec",
   "metadata": {
    "ExecuteTime": {
     "end_time": "2025-01-04T14:28:22.951033Z",
     "start_time": "2025-01-04T14:28:22.943219Z"
    }
   },
   "source": [
    "def flowNetwork():\n",
    "    G = nx.DiGraph()\n",
    "    G.add_nodes_from(['t', 'b', 'a', 's', 'c', 'd'])\n",
    "\n",
    "    options = [1,2,3,4,5,7,10,11,12,13,14,15,16,17,18,19,20]\n",
    "    \n",
    "    edges_with_weights = []\n",
    "    for n in ['a','c']:\n",
    "        edges_with_weights.append(('s', n, choice(options)))\n",
    "    for n in ['b','d']:\n",
    "        edges_with_weights.append((n, 't', choice(options)))\n",
    "    edges_with_weights.append(('a', 'b', choice(options)))\n",
    "    edges_with_weights.append(('c', 'd', choice(options)))\n",
    "\n",
    "    crossWeight = choice(options)\n",
    "    possible_edges = [('a', 'c', choice(options)),\n",
    "                      ('c', 'a', choice(options)), \n",
    "                      ('a', 'd', crossWeight),\n",
    "                      ('d', 'a', crossWeight),\n",
    "                      ('b', 'c', crossWeight),\n",
    "                      ('c', 'b', crossWeight),\n",
    "                      ('b', 'd', choice(options)),\n",
    "                      ('d', 'b', choice(options))]\n",
    "\n",
    "    choices = sample(list(range(4)), 2)\n",
    "    offset = sample(list(range(2)), 2)\n",
    "    for i in range(2):\n",
    "        edges_with_weights.append(possible_edges[2*choices[i]+offset[i]])\n",
    "    G.add_weighted_edges_from(edges_with_weights)\n",
    "    print('Consider the following flow network, where s is the source and t is the sink.')\n",
    "    drawGraph(G)\n",
    "    print('Use the Edmonds-Karp algorithm to find the maximum flow from s to t.')\n",
    "    print('Assume that the adjacency lists are sorted alphabetically.')\n",
    "    print('What is the maximum flow?')\n",
    "\n",
    "    for u, v, data in G.edges(data=True):\n",
    "        data['capacity'] = data['weight']\n",
    "\n",
    "    flow = nx.maximum_flow(G, 's', 't')\n",
    "    return flow[0]"
   ],
   "outputs": [],
   "execution_count": 20
  },
  {
   "cell_type": "code",
   "id": "3dcbf517-e7c8-4167-ae3f-268f3009defb",
   "metadata": {
    "ExecuteTime": {
     "end_time": "2025-01-04T14:28:22.971945Z",
     "start_time": "2025-01-04T14:28:22.959898Z"
    }
   },
   "source": [
    "def validRedBlack():\n",
    "    while True:\n",
    "        try: \n",
    "            numbers = list(set(sample(range(10, 80), 9)))\n",
    "            assert len(numbers) == 9\n",
    "            tree = RedBlackTree()\n",
    "            for number in numbers:\n",
    "                tree.insert(number)\n",
    "            assert tree.root.left.left != None\n",
    "            assert tree.root.left.right != None\n",
    "            assert tree.root.right.left != None\n",
    "            assert tree.root.right.right != None\n",
    "            break\n",
    "        except AssertionError:\n",
    "            pass\n",
    "    \n",
    "    leaves = [tree.root.left.left.left,tree.root.left.left.right,\n",
    "        tree.root.left.right.left,tree.root.left.right.right,\n",
    "        tree.root.right.left.left,tree.root.right.left.right,\n",
    "        tree.root.right.right.left,tree.root.right.right.right]\n",
    "\n",
    "    leafPositions = [leaf.value if leaf != None else '  ' for leaf in leaves]\n",
    "    dashes = []\n",
    "    for i in range(len(leaves)):\n",
    "        if leaves[i] != None:\n",
    "            if i % 2 == 0:\n",
    "                dashes.append('/')\n",
    "            else:\n",
    "                dashes.append('\\\\')\n",
    "        else:\n",
    "            dashes.append(' ')\n",
    "            \n",
    "        \n",
    "    print('Consider the following binary search tree:')\n",
    "    print('              {}'.format(tree.root.value))\n",
    "    print('          /        \\\\')\n",
    "    print('        {}          {}'.format(tree.root.left.value,tree.root.right.value))\n",
    "    print('      /    \\\\      /    \\\\')\n",
    "    print('    {}     {}    {}    {}'.format(tree.root.left.left.value,tree.root.left.right.value,tree.root.right.left.value,tree.root.right.right.value))\n",
    "    print('   {} {}    {} {}   {} {}    {} {}'.format(*dashes))\n",
    "    print('  {} {}  {} {} {} {}  {} {}'.format(*leafPositions))\n",
    "\n",
    "    colorMap = [[tree.root.value, tree.root.color],\n",
    "                [tree.root.left.value, tree.root.left.color],\n",
    "                [tree.root.right.value, tree.root.right.color],\n",
    "                [tree.root.left.left.value, tree.root.left.left.color],\n",
    "                [tree.root.left.right.value, tree.root.left.right.color],\n",
    "                [tree.root.right.left.value, tree.root.right.left.color],\n",
    "                [tree.root.right.right.value, tree.root.right.right.color]]\n",
    "    for leaf in leaves:\n",
    "        if leaf != None:\n",
    "            colorMap.append([leaf.value, leaf.color])\n",
    "\n",
    "    answer = 'Yes'\n",
    "\n",
    "    dice = random()\n",
    "    if dice < 1/6:\n",
    "        index = randint(0,8)\n",
    "        if colorMap[index][1] == 'black':\n",
    "            colorMap[index][1] = 'red'\n",
    "        else:\n",
    "            colorMap[index][1] = 'black'\n",
    "        answer = 'No'\n",
    "    elif dice < 1/2:\n",
    "        for i in range(7):\n",
    "            colorMap[i][1] = 'black'\n",
    "        for i in range(7,9):\n",
    "            colorMap[i][1] = 'red'\n",
    "        if dice < 1/3:\n",
    "            colorMap[0][1] = 'red'\n",
    "            answer = 'No'\n",
    "    elif dice < 2/3:\n",
    "        for i in range(3):\n",
    "            colorMap[i][1] = 'black'\n",
    "        for i in range(3,9):\n",
    "            colorMap[i][1] = 'red'\n",
    "            answer = 'No'\n",
    "\n",
    "    print('Is the tree a valid red-black tree if the nodes are colored as follows:')\n",
    "    blacks = []\n",
    "    reds = []\n",
    "    for node in colorMap:\n",
    "        if node[1] == 'black':\n",
    "            blacks.append(node[0])\n",
    "        else:\n",
    "            reds.append(node[0])\n",
    "    print('Red: {}. Black: {}'.format(sorted(reds), sorted(blacks)))\n",
    "    \n",
    "    return answer"
   ],
   "outputs": [],
   "execution_count": 21
  },
  {
   "cell_type": "code",
   "id": "2abca542-63e5-46ac-be34-7123de2a7117",
   "metadata": {
    "ExecuteTime": {
     "end_time": "2025-01-05T19:26:07.081410Z",
     "start_time": "2025-01-05T19:26:07.077354Z"
    }
   },
   "source": [
    "def generateRandomAssignment():\n",
    "    possibleAssignments = [timeComplexity, masterTheorem, huffmanCoding, heapInsertion, radixSort, \n",
    "                           bucketSort, heapExtractMin, simpleBucketSort, redBlackInsert, dijkstra, \n",
    "                           prim, kruskal, buildHuffmanTree, flowNetwork, validRedBlack]\n",
    "    randomNumber = randint(0, len(possibleAssignments) - 1)\n",
    "    return possibleAssignments[randomNumber]()"
   ],
   "outputs": [],
   "execution_count": 131
  },
  {
   "cell_type": "code",
   "id": "cdbda7d7-349d-4f47-b39b-e647d34b78c6",
   "metadata": {
    "ExecuteTime": {
     "end_time": "2025-01-05T21:21:48.303523Z",
     "start_time": "2025-01-05T21:21:48.299212Z"
    }
   },
   "source": [
    "answer = generateRandomAssignment()"
   ],
   "outputs": [
    {
     "name": "stdout",
     "output_type": "stream",
     "text": [
      "Build a Huffman tree to optimally compress the word ASSESSES. How many bits are in the encoded bit string?\n"
     ]
    }
   ],
   "execution_count": 190
  },
  {
   "cell_type": "code",
   "id": "6ea60fb3-cf05-4efb-a52c-97b88ab04e8f",
   "metadata": {
    "ExecuteTime": {
     "end_time": "2025-01-05T21:20:51.327912Z",
     "start_time": "2025-01-05T21:20:51.319896Z"
    }
   },
   "source": [
    "print(answer)"
   ],
   "outputs": [
    {
     "name": "stdout",
     "output_type": "stream",
     "text": [
      "O(n²)\n"
     ]
    }
   ],
   "execution_count": 175
  },
  {
   "cell_type": "code",
   "id": "06b344e3-3337-494e-824d-a643c40e4ec9",
   "metadata": {
    "ExecuteTime": {
     "end_time": "2025-01-04T14:28:23.492669Z",
     "start_time": "2025-01-04T14:28:23.486560Z"
    }
   },
   "source": [
    "redBlackInsert()"
   ],
   "outputs": [
    {
     "name": "stdout",
     "output_type": "stream",
     "text": [
      "Insert the following numbers into an initially empty red-black tree in the following order:\n",
      "9, 18, 4, 10, 17, 6, 12, 11\n",
      "After inserting all elements, what is the root of the tree?\n"
     ]
    },
    {
     "data": {
      "text/plain": [
       "9"
      ]
     },
     "execution_count": 25,
     "metadata": {},
     "output_type": "execute_result"
    }
   ],
   "execution_count": 25
  },
  {
   "cell_type": "code",
   "id": "9a853a71-3b44-48a4-9453-a089f472c446",
   "metadata": {
    "ExecuteTime": {
     "end_time": "2025-01-04T14:29:29.260935Z",
     "start_time": "2025-01-04T14:29:29.058024Z"
    }
   },
   "source": [
    "flowNetwork()"
   ],
   "outputs": [
    {
     "name": "stdout",
     "output_type": "stream",
     "text": [
      "Consider the following flow network, where s is the source and t is the sink.\n"
     ]
    },
    {
     "data": {
      "text/plain": [
       "<Figure size 400x300 with 1 Axes>"
      ],
      "image/png": "[encoded data removed]"
     },
     "metadata": {},
     "output_type": "display_data"
    },
    {
     "name": "stdout",
     "output_type": "stream",
     "text": [
      "Use the Edmonds-Karp algorithm to find the maximum flow from s to t.\n",
      "Assume that the adjacency lists are sorted alphabetically.\n",
      "What is the maximum flow?\n"
     ]
    },
    {
     "data": {
      "text/plain": [
       "14"
      ]
     },
     "execution_count": 36,
     "metadata": {},
     "output_type": "execute_result"
    }
   ],
   "execution_count": 36
  },
  {
   "cell_type": "code",
   "id": "2d642c17-db10-4746-aa25-f40fe0dba9c0",
   "metadata": {
    "ExecuteTime": {
     "end_time": "2025-01-04T14:28:23.884998Z",
     "start_time": "2025-01-04T14:28:23.881644Z"
    }
   },
   "source": [],
   "outputs": [],
   "execution_count": null
  }
 ],
 "metadata": {
  "kernelspec": {
   "display_name": "Python 3 (ipykernel)",
   "language": "python",
   "name": "python3"
  },
  "language_info": {
   "codemirror_mode": {
    "name": "ipython",
    "version": 3
   },
   "file_extension": ".py",
   "mimetype": "text/x-python",
   "name": "python",
   "nbconvert_exporter": "python",
   "pygments_lexer": "ipython3",
   "version": "3.12.4"
  }
 },
 "nbformat": 4,
 "nbformat_minor": 5
}
