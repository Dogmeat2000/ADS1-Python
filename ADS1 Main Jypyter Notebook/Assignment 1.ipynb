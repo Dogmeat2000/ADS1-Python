{
 "cells": [
  {
   "metadata": {},
   "cell_type": "markdown",
   "source": [
    "_Kristian M.P. Dashnaw, Softwareengineering student at VIA University College, Horsens._\n",
    "\n",
    "\n",
    "# __Assignment 1 - ADS Fall 2024__\n",
    "\n",
    "The objective of this assignment is to implement the BucketSort algorithm in Python, and analyse its runtime performance under different scenarios. Specifically, you will demonstrate how the runtime of BucketSort is influenced by the assumption of evenly distributed numbers in the input array.\n",
    "\n",
    "# __Task 1:__\n",
    "Implement the BucketSort algorithm in python. Your implementation should take an array of integers as input and sort them using BucketSort. Note that to use a linked list in python, you can write: \n",
    "\n",
    "\n",
    "    from collections import duque as linked_list"
   ],
   "id": "670f0d4dc06c6cea"
  },
  {
   "metadata": {},
   "cell_type": "markdown",
   "source": [
    "To solve task 1, we must use the following pseudo code description, as referenced in the ADS1 slides (ie. the one that will be referred to at the exam):\n",
    "\n",
    "    Algorithm: BucketSort(list, k):\n",
    "      Input : A List list containing a number of items to sort, and a contant k which should be equal to the list size.\n",
    "      Output: A sorted version of the initial list.\n",
    "      \n",
    "      buckets = array of k empty lists\n",
    "      M = maximum value in list\n",
    "      for i = 0 to length(list):\n",
    "        insert list[i] into buckets[floor(k*list[i]/(M+1))]\n",
    "      for j = 0 to k:\n",
    "        InsertionSort(buckets[j])\n",
    "      return concatenation of buckets\n",
    "  _source: ADS1 Session 5, PowerPoint slide #5_\n",
    "    \n",
    "    Algorithm: InsertionSort(A):\n",
    "      Input : An array A of n comparable elements\n",
    "      Output: The array A with elements rearranged in nondecreasing order\n",
    "      \n",
    "      for k from 1 to (n-1) do\n",
    "        Insert A[k] at its proper location within A[0], A[1], ..., A[k].\n",
    "  _source: Data Structures in Python p. 214_\n",
    "      \n",
    "\n",
    "      \n",
    "\n",
    "\n",
    "__Implementing the above in python results in the following code:__"
   ],
   "id": "b2d9ed7756caef6d"
  },
  {
   "cell_type": "code",
   "id": "initial_id",
   "metadata": {
    "collapsed": true,
    "ExecuteTime": {
     "end_time": "2024-10-02T15:19:12.264600Z",
     "start_time": "2024-10-02T15:19:12.258147Z"
    }
   },
   "source": [
    "# InsertionSort algorithm in Python, Source: Data Structures in Python p. 214 from pensum.\n",
    "def insertion_sort(list_of_values):\n",
    "    \"\"\"Sort list of comparable elements into non-decreasing order.\"\"\"\n",
    "    for k in range(1, len(list_of_values)):             # from 1 to (n-1)\n",
    "        cur = list_of_values[k]                         # current element to be inserted.\n",
    "        j = k                                           # find correct index j for current\n",
    "        while j > 0 and list_of_values[j - 1] > cur:    # element A[j-1] must be after current.\n",
    "            list_of_values[j] = list_of_values[j - 1]\n",
    "            j -= 1\n",
    "        list_of_values[j] = cur                         # cur is now in the right place."
   ],
   "outputs": [],
   "execution_count": 1
  },
  {
   "metadata": {
    "ExecuteTime": {
     "end_time": "2024-10-02T19:14:04.262897Z",
     "start_time": "2024-10-02T19:14:04.256554Z"
    }
   },
   "cell_type": "code",
   "source": [
    "# BucketSort algorithm in Python:\n",
    "from collections import deque as linked_list\n",
    "from math import floor\n",
    "\n",
    "\"\"\" First sort a list of values into a number of arrays of 'k' length using BucketSort. Then sort each shorter array with InsertionSort, before concatenating all the shorter buckets, resulting in a ordered list of values. \"\"\"\n",
    "def bucket_sort(list_of_values, k):   \n",
    "    buckets = [linked_list() for _ in range(k)]     # an array to contain k number of linked_lists, which each will contain the list_of_value entries.\n",
    "    m = 0                                           # Contains the maximum value in the list_of_values. Initialized to zero.\n",
    "    \n",
    "    # Establish what the maximum value in the list is:\n",
    "    for i in range (0, len(list_of_values)):\n",
    "        if list_of_values[i] > m:                   # For each element in the list_of_values check if that value is larger than the current m\n",
    "            m = list_of_values[i]\n",
    "            \n",
    "    # Check that M is not exactly equal to -1, since that will provide a null-divisor error. If so, adjust so M is close to -1 without being -1:\n",
    "    if m == -1:\n",
    "        m = -0.999999999999999999999999999999999999999999999999999999999999999999999999\n",
    "        \n",
    "    # For each value in the list, insert the values in to bucket linked_list:\n",
    "    for i in range(0, len(list_of_values)):\n",
    "        buckets[floor(k*list_of_values[i]/(m+1))].append(list_of_values[i]) # Calculate insertion index\n",
    "        \n",
    "    # Perform insertion sort on all the linked lists (which are significantly shorter than the original linked_List:\n",
    "    sorted_list = []                                # Contains the final sorted results.\n",
    "    for j in range(0, k):\n",
    "        insertion_sort(buckets[j])                  # Sorts each bucket with InsertionSort.\n",
    "        sorted_list.extend(buckets[j])              # Concatenates the current bucket inside this loop, to improve performance.\n",
    "        \n",
    "    return sorted_list"
   ],
   "id": "de7bf94feebdc26c",
   "outputs": [],
   "execution_count": 63
  },
  {
   "metadata": {},
   "cell_type": "markdown",
   "source": [
    "In order to test the validity of the above sorting algorithm, we set up 2 tests with un-ordered numbers.\n",
    "\n",
    "__Test 1:__ Evenly distributed numbers (e.g. [5, 1, 4, 2, 3, 9, 6, 7, 8, 0])\n",
    "\n",
    "__Test 2:__ Non-evenly distributed numbers (e.g. [10000000, 1, 4, 2, 3, 8, 7, 0, 5, 9, 6])"
   ],
   "id": "c6571ff0e7efc171"
  },
  {
   "metadata": {
    "ExecuteTime": {
     "end_time": "2024-10-02T19:14:06.638860Z",
     "start_time": "2024-10-02T19:14:06.632687Z"
    }
   },
   "cell_type": "code",
   "source": [
    "# Test1: Evenly distributed numbers (e.g. [5, 1, 4, 2, 3, 9, 6, 7, 8, 0])\n",
    "list_of_values_test1 = [5, 1, 4, 2, 3, 9, 6, 7, 8, 0]\n",
    "print (\"Test 1:\")\n",
    "print (\"Unordered list is                       : \" + str(list_of_values_test1))\n",
    "print (\"Ordered list with BucketSort [k=10] is  : \" + str(bucket_sort(list_of_values_test1, 10)))\n",
    "print (\"Expected result is 10 numbers starting af 0 and ending at 10\")\n",
    "\n",
    "# Test2: Non-evenly distributed numbers (e.g. [10000000, 1, 4, 2, 3, 8, 7, 0, 5, 9, 6])\n",
    "list_of_values_test2 = [50000000, 154, 4, 42, 333, 1, 6, 0, 884613794321, 14647120]\n",
    "print (\"\\nTest 2:\")\n",
    "print (\"Unordered list is                       : \" + str(list_of_values_test2))\n",
    "print (\"Ordered list with BucketSort [k=10] is  : \" + str(bucket_sort(list_of_values_test2, 10)))\n",
    "print (\"Expected result is 10 numbers starting af 0 and ending at 884613794321\")"
   ],
   "id": "8a2df7cf2621e458",
   "outputs": [
    {
     "name": "stdout",
     "output_type": "stream",
     "text": [
      "Test 1:\n",
      "Unordered list is                       : [5, 1, 4, 2, 3, 9, 6, 7, 8, 0]\n",
      "Ordered list with BucketSort [k=10] is  : [0, 1, 2, 3, 4, 5, 6, 7, 8, 9]\n",
      "Expected result is 10 numbers starting af 0 and ending at 10\n",
      "\n",
      "Test 2:\n",
      "Unordered list is                       : [50000000, 154, 4, 42, 333, 1, 6, 0, 884613794321, 14647120]\n",
      "Ordered list with BucketSort [k=10] is  : [0, 1, 4, 6, 42, 154, 333, 14647120, 50000000, 884613794321]\n",
      "Expected result is 10 numbers starting af 0 and ending at 884613794321\n"
     ]
    }
   ],
   "execution_count": 64
  },
  {
   "metadata": {},
   "cell_type": "markdown",
   "source": [
    "# __Task 2__ \n",
    "Analyse the runtime of your BucketSort implementation under two different scenarios:\n",
    "    Scenario 1: Input numbers are evenly distributed (e.g. [5,1,4,2,3] for n = 5)\n",
    "    Scenario 2: Input numbers are not evenly distributed (e.g. [10000000,1,4,2,3] for n = 5).\n",
    "    \n",
    "Specifically, generate test cases for both scenarios with varying sizes of input arrays (n), record the runtime of your BucketSort implementation for each test case and plot a graph that illustrates the runtime of BucketSort as a function of the size of the input array (n) for both scenarios."
   ],
   "id": "556af6ca3212fa46"
  },
  {
   "metadata": {},
   "cell_type": "code",
   "outputs": [],
   "execution_count": null,
   "source": "#Some Code",
   "id": "fd3538d9de3f2e80"
  },
  {
   "metadata": {},
   "cell_type": "markdown",
   "source": [
    "# __Task 3__\n",
    "Provide a clear explanation of the trends observed in the graph"
   ],
   "id": "cc22a55f14c7bbe3"
  },
  {
   "metadata": {},
   "cell_type": "code",
   "outputs": [],
   "execution_count": null,
   "source": "#Some code",
   "id": "2fade511b2f01fc2"
  }
 ],
 "metadata": {
  "kernelspec": {
   "display_name": "Python 3",
   "language": "python",
   "name": "python3"
  },
  "language_info": {
   "codemirror_mode": {
    "name": "ipython",
    "version": 2
   },
   "file_extension": ".py",
   "mimetype": "text/x-python",
   "name": "python",
   "nbconvert_exporter": "python",
   "pygments_lexer": "ipython2",
   "version": "2.7.6"
  }
 },
 "nbformat": 4,
 "nbformat_minor": 5
}
