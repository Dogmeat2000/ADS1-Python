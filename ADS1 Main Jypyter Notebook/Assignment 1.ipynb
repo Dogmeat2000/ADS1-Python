{
 "cells": [
  {
   "metadata": {},
   "cell_type": "markdown",
   "source": [
    "_Kristian M.P. Dashnaw, Software Engineering student at VIA University College, Horsens._\n",
    "\n",
    "\n",
    "# __Assignment 1 - ADS Fall 2024__\n",
    "\n",
    "The objective of this assignment is to implement the BucketSort algorithm in Python, and analyse its runtime performance under different scenarios. Specifically, you will demonstrate how the runtime of BucketSort is influenced by the assumption of evenly distributed numbers in the input array.\n",
    "\n",
    "# __Task 1:__\n",
    "Implement the BucketSort algorithm in python. Your implementation should take an array of integers as input and sort them using BucketSort. Note that to use a linked list in python, you can write: \n",
    "\n",
    "\n",
    "    from collections import duque as linked_list"
   ],
   "id": "670f0d4dc06c6cea"
  },
  {
   "metadata": {},
   "cell_type": "markdown",
   "source": [
    "To solve task 1, we must use the following pseudo code description, as referenced in the ADS1 slides (ie. the one that will be referred to at the exam):\n",
    "\n",
    "    Algorithm: BucketSort(list, k):\n",
    "      Input : A List list containing a number of items to sort, and a contant k which should be equal to the list size.\n",
    "      Output: A sorted version of the initial list.\n",
    "      \n",
    "      buckets = array of k empty lists\n",
    "      M = maximum value in list\n",
    "      for i = 0 to length(list):\n",
    "        insert list[i] into buckets[floor(k*list[i]/(M+1))]\n",
    "      for j = 0 to k:\n",
    "        InsertionSort(buckets[j])\n",
    "      return concatenation of buckets\n",
    "  _source: ADS1 Session 5, PowerPoint slide #5_\n",
    "    \n",
    "    Algorithm: InsertionSort(A):\n",
    "      Input : An array A of n comparable elements\n",
    "      Output: The array A with elements rearranged in nondecreasing order\n",
    "      \n",
    "      for k from 1 to (n-1) do\n",
    "        Insert A[k] at its proper location within A[0], A[1], ..., A[k].\n",
    "  _source: Data Structures in Python p. 214_\n",
    "      \n",
    "\n",
    "      \n",
    "\n",
    "\n",
    "__Implementing the above in python results in the following code:__"
   ],
   "id": "b2d9ed7756caef6d"
  },
  {
   "cell_type": "code",
   "id": "initial_id",
   "metadata": {
    "collapsed": true,
    "ExecuteTime": {
     "end_time": "2024-10-03T10:13:17.751642Z",
     "start_time": "2024-10-03T10:13:17.744025Z"
    }
   },
   "source": [
    "# InsertionSort algorithm in Python, Source: Data Structures in Python p. 214 from pensum.\n",
    "def insertion_sort(list_of_values):\n",
    "    \"\"\"Sort list of comparable elements into non-decreasing order.\"\"\"\n",
    "    for k in range(1, len(list_of_values)):             # from 1 to (n-1)\n",
    "        cur = list_of_values[k]                         # current element to be inserted.\n",
    "        j = k                                           # find correct index j for current\n",
    "        while j > 0 and list_of_values[j - 1] > cur:    # element A[j-1] must be after current.\n",
    "            list_of_values[j] = list_of_values[j - 1]\n",
    "            j -= 1\n",
    "        list_of_values[j] = cur                         # cur is now in the right place."
   ],
   "outputs": [],
   "execution_count": 1
  },
  {
   "metadata": {
    "ExecuteTime": {
     "end_time": "2024-10-03T10:13:20.434449Z",
     "start_time": "2024-10-03T10:13:20.428119Z"
    }
   },
   "cell_type": "code",
   "source": [
    "# BucketSort algorithm in Python:\n",
    "from collections import deque as linked_list\n",
    "from math import floor\n",
    "\n",
    "\"\"\" First sort a list of values into a number of arrays of 'k' length using BucketSort. Then sort each shorter array with InsertionSort, before concatenating all the shorter buckets, resulting in a ordered list of values. \"\"\"\n",
    "def bucket_sort(list_of_values, k):   \n",
    "    buckets = [linked_list() for _ in range(k)]     # an array to contain k number of linked_lists, which each will contain the list_of_value entries.\n",
    "    m = 0                                           # Contains the maximum value in the list_of_values. Initialized to zero.\n",
    "    \n",
    "    # Establish what the maximum value in the list is:\n",
    "    for i in range (0, len(list_of_values)):\n",
    "        if list_of_values[i] > m:                   # For each element in the list_of_values check if that value is larger than the current m\n",
    "            m = list_of_values[i]\n",
    "            \n",
    "    # Check that M is not exactly equal to -1, since that will provide a null-divisor error. If so, adjust so M is close to -1 without being -1:\n",
    "    if m == -1:\n",
    "        m = -0.999999999999999999999999999999999999999999999999999999999999999999999999\n",
    "        \n",
    "    # For each value in the list, insert the values in to bucket linked_list:\n",
    "    for i in range(0, len(list_of_values)):\n",
    "        buckets[floor(k*list_of_values[i]/(m+1))].append(list_of_values[i]) # Calculate insertion index\n",
    "        \n",
    "    # Perform insertion sort on all the linked lists (which are significantly shorter than the original linked_List:\n",
    "    sorted_list = []                                # Contains the final sorted results.\n",
    "    for j in range(0, k):\n",
    "        insertion_sort(buckets[j])                  # Sorts each bucket with InsertionSort.\n",
    "        sorted_list.extend(buckets[j])              # Concatenates the current bucket inside this loop, to improve performance.\n",
    "        \n",
    "    return sorted_list"
   ],
   "id": "de7bf94feebdc26c",
   "outputs": [],
   "execution_count": 2
  },
  {
   "metadata": {},
   "cell_type": "markdown",
   "source": [
    "In order to test the validity of the above sorting algorithm, we set up 2 tests with un-ordered numbers.\n",
    "\n",
    "__Test 1:__ Evenly distributed numbers (e.g. [5, 1, 4, 2, 3, 9, 6, 7, 8, 0])\n",
    "\n",
    "__Test 2:__ Non-evenly distributed numbers (e.g. [10000000, 1, 4, 2, 3, 8, 7, 0, 5, 9, 6])"
   ],
   "id": "c6571ff0e7efc171"
  },
  {
   "metadata": {
    "ExecuteTime": {
     "end_time": "2024-10-03T10:13:23.698721Z",
     "start_time": "2024-10-03T10:13:23.686449Z"
    }
   },
   "cell_type": "code",
   "source": [
    "# Test1: Evenly distributed numbers (e.g. [5, 1, 4, 2, 3, 9, 6, 7, 8, 0])\n",
    "list_of_values_test1 = [5, 1, 4, 2, 3, 9, 6, 7, 8, 0]\n",
    "print (\"Test 1:\")\n",
    "print (\"Unordered list is                       : \" + str(list_of_values_test1))\n",
    "print (\"Ordered list with BucketSort [k=10] is  : \" + str(bucket_sort(list_of_values_test1, 10)))\n",
    "print (\"Expected result is 10 numbers starting af 0 and ending at 10\")\n",
    "\n",
    "# Test2: Non-evenly distributed numbers (e.g. [10000000, 1, 4, 2, 3, 8, 7, 0, 5, 9, 6])\n",
    "list_of_values_test2 = [50000000, 154, 4, 42, 333, 1, 6, 0, 884613794321, 14647120]\n",
    "print (\"\\nTest 2:\")\n",
    "print (\"Unordered list is                       : \" + str(list_of_values_test2))\n",
    "print (\"Ordered list with BucketSort [k=10] is  : \" + str(bucket_sort(list_of_values_test2, 10)))\n",
    "print (\"Expected result is 10 numbers starting af 0 and ending at 884613794321\")"
   ],
   "id": "8a2df7cf2621e458",
   "outputs": [
    {
     "name": "stdout",
     "output_type": "stream",
     "text": [
      "Test 1:\n",
      "Unordered list is                       : [5, 1, 4, 2, 3, 9, 6, 7, 8, 0]\n",
      "Ordered list with BucketSort [k=10] is  : [0, 1, 2, 3, 4, 5, 6, 7, 8, 9]\n",
      "Expected result is 10 numbers starting af 0 and ending at 10\n",
      "\n",
      "Test 2:\n",
      "Unordered list is                       : [50000000, 154, 4, 42, 333, 1, 6, 0, 884613794321, 14647120]\n",
      "Ordered list with BucketSort [k=10] is  : [0, 1, 4, 6, 42, 154, 333, 14647120, 50000000, 884613794321]\n",
      "Expected result is 10 numbers starting af 0 and ending at 884613794321\n"
     ]
    }
   ],
   "execution_count": 3
  },
  {
   "metadata": {},
   "cell_type": "markdown",
   "source": [
    "# __Task 2__ \n",
    "Analyse the runtime of your BucketSort implementation under two different scenarios:\n",
    "    Scenario 1: Input numbers are evenly distributed (e.g. [5,1,4,2,3] for n = 5)\n",
    "    Scenario 2: Input numbers are not evenly distributed (e.g. [10000000,1,4,2,3] for n = 5).\n",
    "    \n",
    "Specifically, generate test cases for both scenarios with varying sizes of input arrays (n), record the runtime of your BucketSort implementation for each test case and plot a graph that illustrates the runtime of BucketSort as a function of the size of the input array (n) for both scenarios.\n",
    "\n",
    "\n",
    "__Testing principle:__\n",
    "\n",
    "To properly test the methods runtime, a test generation algorithm will be written.\n",
    "This algorithm will generate a number of valid numbers between 0 and an input_size defined by the user, as well as providing the option for setting a max_value that all generated numbers must be below."
   ],
   "id": "556af6ca3212fa46"
  },
  {
   "metadata": {
    "ExecuteTime": {
     "end_time": "2024-10-03T10:31:33.502455Z",
     "start_time": "2024-10-03T10:31:33.495198Z"
    }
   },
   "cell_type": "code",
   "source": [
    "#Number Sequence generator: Generate a number sequence with random placement of numbers from 0 to input_size, with a defined max_value.\n",
    "from numpy.random import random\n",
    "\n",
    "def generate_random_sequence(max_value, input_size):\n",
    "    valid_numbers = [0] * input_size\n",
    "    \n",
    "    # Generate a sequence of valid numbers to choose from. if input_size is less than max_value, then just fill with evenly distributed values. Otherwise, fill with unevenly distributed values.\n",
    "    if max_value <= input_size:\n",
    "        for i in range(0, max_value):\n",
    "            valid_numbers[i] = i\n",
    "    else:\n",
    "        min_1_very_uneven_value_set = False\n",
    "        for i in range(0, input_size):\n",
    "            # Ensure that at least 1 generated number, and about 10% in the sequence is outside the evenly-distributed number sequence.\n",
    "            if 100*random() >= 90 or (i > input_size * 0.75 and not min_1_very_uneven_value_set): \n",
    "                valid_numbers[i] = input_size + floor(max_value*random())\n",
    "                min_1_very_uneven_value_set = True\n",
    "            else:\n",
    "                # for 90% of the values, just fill with numbers that are below input_size (so these are evenly distributed).\n",
    "                valid_numbers[i] = i\n",
    "    \n",
    "    # Fill an array with 'input_size' amount of numbers taken from the valid_numbers array.\n",
    "    number_array = []\n",
    "    while len(number_array) < input_size:                   # Run until input_size amount of numbers have been selected.\n",
    "        random_index = floor(len(valid_numbers)*random())\n",
    "        number_array.append(valid_numbers[random_index])    # Take a number from a randomly chosen location, and remove it from the array.\n",
    "        valid_numbers.remove(valid_numbers[random_index])   # Remove the chosen number from the valid_numbers array, reducing the array size.\n",
    "    \n",
    "    return number_array\n",
    "\n",
    "#print (\"Generated sequence is:\\n\", generate_random_sequence(100, 100)) # DEBUG"
   ],
   "id": "fd3538d9de3f2e80",
   "outputs": [],
   "execution_count": 14
  },
  {
   "metadata": {
    "ExecuteTime": {
     "end_time": "2024-10-03T10:59:42.013200Z",
     "start_time": "2024-10-03T10:31:34.876511Z"
    }
   },
   "cell_type": "code",
   "source": [
    "from time import time\n",
    "\n",
    "# Shared settings:\n",
    "max_input_size = 5000\n",
    "\n",
    "# Test 1, \n",
    "# Fill a hashmap with time measured when BucketSorting a sequence of numbers between input_size = 1 to input_size = max_input_size.\n",
    "# In test 1, the maximum value in each number sequence CANNOT be larger than the size of each number sequence!\n",
    "evenly_distributed_hashmap = dict()                         # hashmap containing (key=input_size, value=time_spent_doing_bucket_sort)\n",
    "\n",
    "for i in range(max_input_size):\n",
    "    numbers = generate_random_sequence(i,i)                 # Generate sequence of numbers for this input_size\n",
    "    start_time = time()                                     # Begin measuring time\n",
    "    sortedNumbers = bucket_sort(numbers, i)                 # BucketSort the numbers\n",
    "    end_time = time()                                       # Stop measuring time\n",
    "    evenly_distributed_hashmap[i] = end_time - start_time   # Save the time spent processing this\n",
    "    # print (\"Time with i={} is : {}\".format(i, end_time - start_time)) #DEBUG\n",
    "    \n",
    "    \n",
    "# Test 2, \n",
    "# Fill a hashmap with time measured when BucketSorting a sequence of numbers between input_size = 1 and a maximum possible value of 10.000.000.\n",
    "# In test 2, the maximum value in each number sequence CAN be larger than the size of each number sequence!\n",
    "un_evenly_distributed_hashmap = dict()                         # hashmap containing (key=input_size, value=time_spent_doing_bucket_sort)\n",
    "\n",
    "for i in range(max_input_size):\n",
    "    numbers = generate_random_sequence(10000000,i)              # Generate sequence of numbers for this input_size, with upper bound of possible values being 10.000.000.\n",
    "    # print (\"Sequence generated is\\n: \", numbers)              # DEBUG\n",
    "    start_time = time()                                         # Begin measuring time\n",
    "    sortedNumbers = bucket_sort(numbers, i)                     # BucketSort the numbers\n",
    "    end_time = time()                                           # Stop measuring time\n",
    "    un_evenly_distributed_hashmap[i] = end_time - start_time    # Save the time spent processing this\n",
    "    # print (\"Time with i={} is : {}\".format(i, end_time - start_time)) #DEBUG\n"
   ],
   "id": "4827f9546a6b1812",
   "outputs": [],
   "execution_count": 15
  },
  {
   "metadata": {},
   "cell_type": "markdown",
   "source": "Based on the above 2 tests (evenly distributed and unevenly distributed), this graph can be plotted with calculation times correlated against input_size.",
   "id": "a46990e1fae64848"
  },
  {
   "metadata": {
    "ExecuteTime": {
     "end_time": "2024-10-03T10:59:48.550781Z",
     "start_time": "2024-10-03T10:59:48.245060Z"
    }
   },
   "cell_type": "code",
   "source": [
    "import matplotlib.pyplot as plt\n",
    "\n",
    "# Display times on a graph\n",
    "\n",
    "# Define the x and y-axis:\n",
    "x1_axis = evenly_distributed_hashmap.keys()\n",
    "y1_axis = evenly_distributed_hashmap.values()\n",
    "\n",
    "x2_axis = un_evenly_distributed_hashmap.keys()\n",
    "y2_axis = un_evenly_distributed_hashmap.values()\n",
    "\n",
    "# Set up\n",
    "plt.scatter(x1_axis, y1_axis, label = \"Evenly number sequence\")\n",
    "plt.scatter(x2_axis, y2_axis, label = \"Unevenly number sequence\")\n",
    "plt.title(\"BucketSort times\")\n",
    "plt.xlabel(\"input size\")\n",
    "plt.ylabel(\"Time\")\n",
    "\n",
    "plt.legend()\n",
    "plt.grid(True)\n",
    "plt.show()"
   ],
   "id": "ea4c8e5f969585fd",
   "outputs": [
    {
     "data": {
      "text/plain": [
       "<Figure size 640x480 with 1 Axes>"
      ],
      "image/png": "[encoded data removed]"
     },
     "metadata": {},
     "output_type": "display_data"
    }
   ],
   "execution_count": 16
  },
  {
   "metadata": {},
   "cell_type": "markdown",
   "source": [
    "# __Task 3__\n",
    "Provide a clear explanation of the trends observed in the graph"
   ],
   "id": "cc22a55f14c7bbe3"
  },
  {
   "metadata": {},
   "cell_type": "code",
   "outputs": [],
   "execution_count": null,
   "source": "#Some code",
   "id": "2fade511b2f01fc2"
  }
 ],
 "metadata": {
  "kernelspec": {
   "display_name": "Python 3",
   "language": "python",
   "name": "python3"
  },
  "language_info": {
   "codemirror_mode": {
    "name": "ipython",
    "version": 2
   },
   "file_extension": ".py",
   "mimetype": "text/x-python",
   "name": "python",
   "nbconvert_exporter": "python",
   "pygments_lexer": "ipython2",
   "version": "2.7.6"
  }
 },
 "nbformat": 4,
 "nbformat_minor": 5
}
