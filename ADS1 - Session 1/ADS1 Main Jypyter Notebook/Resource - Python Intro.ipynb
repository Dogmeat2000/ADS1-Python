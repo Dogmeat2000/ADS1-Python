﻿{
 "cells": [
  {
   "cell_type": "code",
   "id": "initial_id",
   "metadata": {
    "collapsed": true,
    "ExecuteTime": {
     "end_time": "2024-09-10T12:22:11.926503Z",
     "start_time": "2024-09-10T12:22:11.922734Z"
    }
   },
   "source": "print(\"Hello World\");",
   "outputs": [
    {
     "name": "stdout",
     "output_type": "stream",
     "text": [
      "Hello World\n"
     ]
    }
   ],
   "execution_count": 12
  },
  {
   "metadata": {
    "ExecuteTime": {
     "end_time": "2024-09-10T12:04:38.854026Z",
     "start_time": "2024-09-10T12:04:38.850009Z"
    }
   },
   "cell_type": "code",
   "source": [
    "a = 42\n",
    "b = 54"
   ],
   "id": "50ff41de808bc6b5",
   "outputs": [],
   "execution_count": 2
  },
  {
   "metadata": {
    "ExecuteTime": {
     "end_time": "2024-09-10T12:04:39.894412Z",
     "start_time": "2024-09-10T12:04:39.890413Z"
    }
   },
   "cell_type": "code",
   "source": "a,b = b, a #swapping",
   "id": "8f1665dcc7fecbfe",
   "outputs": [],
   "execution_count": 3
  },
  {
   "metadata": {
    "ExecuteTime": {
     "end_time": "2024-09-10T12:22:10.454217Z",
     "start_time": "2024-09-10T12:22:10.449934Z"
    }
   },
   "cell_type": "code",
   "source": "print(\"a = {} and b = {}\".format(a, b))",
   "id": "fdcbd99d9053c0c8",
   "outputs": [
    {
     "name": "stdout",
     "output_type": "stream",
     "text": [
      "a = 54 and b = 27\n"
     ]
    }
   ],
   "execution_count": 11
  },
  {
   "metadata": {},
   "cell_type": "markdown",
   "source": [
    "This is a markdown area.\n",
    "\n",
    "And this is just how it is!\n",
    "\n",
    "# hej 1\n",
    "## hej 2\n",
    "### hej 3\n",
    "__boldface__\n",
    " \n",
    "_italics_ \n",
    "\n",
    "___boldItalics___\n",
    "\n",
    "<ins>underlined</ins>\n",
    "\n",
    "<b>bold</b>"
   ],
   "id": "306fc8d76d798942"
  },
  {
   "metadata": {
    "ExecuteTime": {
     "end_time": "2024-09-10T12:22:08.015087Z",
     "start_time": "2024-09-10T12:22:08.005567Z"
    }
   },
   "cell_type": "code",
   "source": [
    "x = 25\n",
    "b = 0\n",
    "while b < x:\n",
    "    b += 3\n",
    "    print(b)"
   ],
   "id": "a2132dc177d8f9e2",
   "outputs": [
    {
     "name": "stdout",
     "output_type": "stream",
     "text": [
      "3\n",
      "6\n",
      "9\n",
      "12\n",
      "15\n",
      "18\n",
      "21\n",
      "24\n",
      "27\n"
     ]
    }
   ],
   "execution_count": 10
  },
  {
   "metadata": {
    "ExecuteTime": {
     "end_time": "2024-09-10T12:27:17.187364Z",
     "start_time": "2024-09-10T12:27:17.183301Z"
    }
   },
   "cell_type": "code",
   "source": [
    "def unique(array):\n",
    "        for i in range(len(array)):\n",
    "            for j in range(len(array)):\n",
    "                if i != j and array[i] == array[j]:\n",
    "                    return False\n",
    "        return True"
   ],
   "id": "202717756991c10c",
   "outputs": [],
   "execution_count": 14
  },
  {
   "metadata": {
    "ExecuteTime": {
     "end_time": "2024-09-10T12:27:19.071049Z",
     "start_time": "2024-09-10T12:27:19.058215Z"
    }
   },
   "cell_type": "code",
   "source": [
    "L = [2, 4, 5, 6, 7]\n",
    "unique(L)"
   ],
   "id": "de0b0323f2d7f52e",
   "outputs": [
    {
     "data": {
      "text/plain": [
       "True"
      ]
     },
     "execution_count": 15,
     "metadata": {},
     "output_type": "execute_result"
    }
   ],
   "execution_count": 15
  },
  {
   "metadata": {
    "ExecuteTime": {
     "end_time": "2024-09-10T12:28:04.547509Z",
     "start_time": "2024-09-10T12:28:02.890770Z"
    }
   },
   "cell_type": "code",
   "source": [
    "from time import time\n",
    "import matplotlib.pyplot as plt"
   ],
   "id": "56c2e3e6abd3e57e",
   "outputs": [],
   "execution_count": 16
  },
  {
   "metadata": {},
   "cell_type": "markdown",
   "source": "What is the time complexity of the function below?",
   "id": "e08fdbe0bbfe31be"
  },
  {
   "metadata": {
    "ExecuteTime": {
     "end_time": "2024-09-10T12:30:43.540518Z",
     "start_time": "2024-09-10T12:30:43.535379Z"
    }
   },
   "cell_type": "code",
   "source": [
    "def time_unique(array, unique_func):\n",
    "    start_time = time()\n",
    "    unique_func(array)\n",
    "    end_time = time()\n",
    "    return end_time - start_time"
   ],
   "id": "3019003536e387c6",
   "outputs": [],
   "execution_count": 17
  },
  {
   "metadata": {
    "ExecuteTime": {
     "end_time": "2024-09-10T12:31:07.270632Z",
     "start_time": "2024-09-10T12:30:45.701850Z"
    }
   },
   "cell_type": "code",
   "source": [
    "N = 1000\n",
    "lengths = list(range(N))\n",
    "times = [0 for _ in range(N)]\n",
    "\n",
    "for arr_len in range(N):\n",
    "    array = [x for x in range(arr_len)]\n",
    "    times[arr_len] = time_unique(array, unique)"
   ],
   "id": "7d5f13f2ac8081ad",
   "outputs": [],
   "execution_count": 18
  },
  {
   "metadata": {
    "ExecuteTime": {
     "end_time": "2024-09-10T12:32:32.199235Z",
     "start_time": "2024-09-10T12:32:32.011636Z"
    }
   },
   "cell_type": "code",
   "source": [
    "plt.figure()\n",
    "plt.plot(lengths, times, '.b')\n",
    "plt.show()"
   ],
   "id": "25ed999c29b2fc35",
   "outputs": [
    {
     "data": {
      "text/plain": [
       "<Figure size 640x480 with 1 Axes>"
      ],
      "image/png": "[encoded data removed]"
     },
     "metadata": {},
     "output_type": "display_data"
    }
   ],
   "execution_count": 19
  }
 ],
 "metadata": {
  "kernelspec": {
   "display_name": "Python 3",
   "language": "python",
   "name": "python3"
  },
  "language_info": {
   "codemirror_mode": {
    "name": "ipython",
    "version": 2
   },
   "file_extension": ".py",
   "mimetype": "text/x-python",
   "name": "python",
   "nbconvert_exporter": "python",
   "pygments_lexer": "ipython2",
   "version": "2.7.6"
  }
 },
 "nbformat": 4,
 "nbformat_minor": 5
}
