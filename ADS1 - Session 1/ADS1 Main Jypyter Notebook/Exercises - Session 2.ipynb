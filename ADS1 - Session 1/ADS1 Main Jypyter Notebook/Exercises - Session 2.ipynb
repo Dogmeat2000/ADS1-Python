﻿{
 "cells": [
  {
   "metadata": {},
   "cell_type": "markdown",
   "source": [
    "__Exercise 2.1__\n",
    "The following Java code checks whether a number is a prime number. Turn it into pseudocode and then python code.\n",
    "\n",
    "__Java Code:__<br>\n",
    "<code>\n",
    "public boolean isPrime(int number) {                    <br>\n",
    "  if (number < 2) {                                     <br>\n",
    "     return false;                                      <br>\n",
    "  }                                                     <br>\n",
    "  for (int i = 2; i <= Math.sqrt(number); i++) {        <br>\n",
    "    if (number % i == 0) {                              <br>\n",
    "      return false;                                     <br>\n",
    "    }                                                   <br>\n",
    "  }                                                     <br>\n",
    "  return true;                                          <br>\n",
    "}                                                       <br>\n",
    "</code>\n",
    "<br>\n",
    "__Python Conversion:__<br>\n",
    "A Prime is a number that is ONLY divisable (whole number) with itself and 1.\n",
    "\n",
    "if (number < 2)\n",
    "   return false\n",
    "\n",
    "for i = 2 in range i to sqrt(x)\n",
    "    if number % i == 0\n",
    "        return false\n",
    "    \n",
    "return true"
   ],
   "id": "9850f5cb28cedbf8"
  },
  {
   "metadata": {
    "collapsed": true,
    "ExecuteTime": {
     "end_time": "2024-09-10T13:40:00.584064Z",
     "start_time": "2024-09-10T13:40:00.579007Z"
    }
   },
   "cell_type": "code",
   "source": [
    "def isPrime(a):\n",
    "    if(a < 2):\n",
    "        return False\n",
    "    \n",
    "    done = False\n",
    "    i = 2\n",
    "    while not done: \n",
    "        if a % i == 0:\n",
    "            return False\n",
    "        if i + 1 < pow(a, 0.5):\n",
    "            i = i + 1\n",
    "        elif i + pow(a, 0.5) <= pow(a, 0.5):\n",
    "            done = True\n",
    "        else:\n",
    "            done = True\n",
    "    return True"
   ],
   "id": "initial_id",
   "outputs": [],
   "execution_count": 3
  },
  {
   "metadata": {
    "ExecuteTime": {
     "end_time": "2024-09-10T13:40:04.261244Z",
     "start_time": "2024-09-10T13:40:04.254727Z"
    }
   },
   "cell_type": "code",
   "source": [
    "print(\"isPrime(2) : \" + str(isPrime(2)))\n",
    "print(\"isPrime(3) : \" + str(isPrime(3)))\n",
    "print(\"isPrime(4) : \" + str(isPrime(4)))\n",
    "print(\"isPrime(5) : \" + str(isPrime(5)))\n",
    "print(\"isPrime(6) : \" + str(isPrime(6)))\n",
    "print(\"isPrime(7) : \" + str(isPrime(7)))\n",
    "print(\"isPrime(8) : \" + str(isPrime(8)))\n",
    "print(\"isPrime(9) : \" + str(isPrime(9)))\n",
    "print(\"isPrime(10) : \" + str(isPrime(10)))"
   ],
   "id": "ef0f9e803049aef5",
   "outputs": [
    {
     "name": "stdout",
     "output_type": "stream",
     "text": [
      "isPrime(2) :False\n",
      "isPrime(3) :True\n",
      "isPrime(4) :False\n",
      "isPrime(5) :True\n",
      "isPrime(6) :False\n",
      "isPrime(7) :True\n",
      "isPrime(8) :False\n",
      "isPrime(9) :True\n",
      "isPrime(10) :False\n"
     ]
    }
   ],
   "execution_count": 4
  }
 ],
 "metadata": {
  "kernelspec": {
   "display_name": "Python 3",
   "language": "python",
   "name": "python3"
  },
  "language_info": {
   "codemirror_mode": {
    "name": "ipython",
    "version": 2
   },
   "file_extension": ".py",
   "mimetype": "text/x-python",
   "name": "python",
   "nbconvert_exporter": "python",
   "pygments_lexer": "ipython2",
   "version": "2.7.6"
  }
 },
 "nbformat": 4,
 "nbformat_minor": 5
}
